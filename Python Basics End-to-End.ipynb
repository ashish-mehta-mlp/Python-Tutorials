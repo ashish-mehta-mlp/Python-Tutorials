{
 "cells": [
  {
   "cell_type": "code",
   "execution_count": null,
   "metadata": {},
   "outputs": [],
   "source": [
    "# P1: My first program"
   ]
  },
  {
   "cell_type": "code",
   "execution_count": 1,
   "metadata": {
    "scrolled": true
   },
   "outputs": [
    {
     "name": "stdout",
     "output_type": "stream",
     "text": [
      "My name is Ashish\n"
     ]
    }
   ],
   "source": [
    "print (\"My name is Ashish\")"
   ]
  },
  {
   "cell_type": "code",
   "execution_count": null,
   "metadata": {},
   "outputs": [],
   "source": [
    "# P2: Creating shapes in python"
   ]
  },
  {
   "cell_type": "code",
   "execution_count": 4,
   "metadata": {},
   "outputs": [
    {
     "name": "stdout",
     "output_type": "stream",
     "text": [
      "   /|\n",
      "  / |\n",
      " /  |\n",
      "/___|\n"
     ]
    }
   ],
   "source": [
    "print(\"   /|\")\n",
    "print(\"  / |\")\n",
    "print(\" /  |\")\n",
    "print(\"/___|\")"
   ]
  },
  {
   "cell_type": "code",
   "execution_count": null,
   "metadata": {},
   "outputs": [],
   "source": [
    "# Note that the order of instructions matters alot. It will be clear from the below example"
   ]
  },
  {
   "cell_type": "code",
   "execution_count": 5,
   "metadata": {},
   "outputs": [
    {
     "name": "stdout",
     "output_type": "stream",
     "text": [
      "/___|\n",
      "   /|\n",
      "  / |\n",
      " /  |\n"
     ]
    }
   ],
   "source": [
    "print(\"/___|\")\n",
    "print(\"   /|\")\n",
    "print(\"  / |\")\n",
    "print(\" /  |\")"
   ]
  },
  {
   "cell_type": "code",
   "execution_count": null,
   "metadata": {},
   "outputs": [],
   "source": [
    "# As seen, the shape of the triangle has been disrupted due to order of instructions"
   ]
  },
  {
   "cell_type": "code",
   "execution_count": null,
   "metadata": {},
   "outputs": [],
   "source": [
    "# P3: Variables and data types"
   ]
  },
  {
   "cell_type": "code",
   "execution_count": null,
   "metadata": {},
   "outputs": [],
   "source": [
    "# In python, we have to deal with alot of data\n",
    "#Variables are nothing but containers that are used to store the data "
   ]
  },
  {
   "cell_type": "code",
   "execution_count": null,
   "metadata": {},
   "outputs": [],
   "source": [
    "#Different Data Types in Python\n",
    "#1. String = String are nothing but plain texts. ***** In order to store a string in a variable, WE NEED \"\"\n",
    "#2. Numbers ***** In order to store numbers in variables, we DO NOT NEED \"\"\n",
    "#3. Boolean = There are two types of boolean values. True or False"
   ]
  },
  {
   "cell_type": "code",
   "execution_count": 10,
   "metadata": {},
   "outputs": [
    {
     "name": "stdout",
     "output_type": "stream",
     "text": [
      "There was a man whose name was Vikram,\n",
      "He was 25 years old\n",
      "He liked his name Vikram.\n",
      "but did not like being 25\n",
      "There was a man whose name was Abhay,\n",
      "He was 28years old\n",
      "He liked his name Abhay.\n",
      "but did not like being 28\n"
     ]
    }
   ],
   "source": [
    "print(\"There was a man whose name was Vikram,\")\n",
    "print(\"He was 25 years old\")\n",
    "print(\"He liked his name Vikram.\")\n",
    "print(\"but did not like being 25\") \n",
    "\n",
    "# Suppose this is a 100 line code and we want to change the name and his age in all the lines. We wont do it manually\n",
    "\n",
    "#Solution:\n",
    "char_name = \"Abhay\"\n",
    "char_age = \"28\"\n",
    "print(\"There was a man whose name was \" + char_name + \",\")\n",
    "print(\"He was \" + char_age + \"years old\")\n",
    "print(\"He liked his name \" + char_name + \".\")\n",
    "print(\"but did not like being \" + char_age ) \n",
    "\n",
    "# String and int cannot be concatenated"
   ]
  },
  {
   "cell_type": "code",
   "execution_count": null,
   "metadata": {},
   "outputs": [],
   "source": [
    "# P4: Working with strings"
   ]
  },
  {
   "cell_type": "code",
   "execution_count": 12,
   "metadata": {},
   "outputs": [],
   "source": [
    "# the command that we pass inside a function is called a \"PARAMETER\""
   ]
  },
  {
   "cell_type": "code",
   "execution_count": 32,
   "metadata": {},
   "outputs": [
    {
     "name": "stdout",
     "output_type": "stream",
     "text": [
      "Ashish Mehta\n",
      "Ashish \n",
      "Mehta\n",
      "Ashish\" Mehta\n",
      "Ashish\\ Mehta\n",
      "Vikram Pawar\n",
      "Vikram Pawar is very lazy\n",
      "vikram pawar\n",
      "VIKRAM PAWAR\n",
      "False\n",
      "True\n",
      "12\n",
      "V\n",
      "a\n",
      "5\n",
      "7\n",
      "Vikram Mehta\n",
      "Vikram Pawar\n",
      "Ashish Mehta\n"
     ]
    }
   ],
   "source": [
    "print (\"Ashish Mehta\")\n",
    "print(\"Ashish \\nMehta\") # \\n is used to print the words of a string on a new line\n",
    "print(\"Ashish\\\" Mehta\") # If we want to print \"\" sign, we need to use \\. Directly using \"\" wont print the sign\n",
    "print(\"Ashish\\ Mehta\")\n",
    "\n",
    "phrase = \"Vikram Pawar\"\n",
    "print(phrase)\n",
    "print(phrase + \" is very lazy\") # + sign is used to concatnate one string with another. NOTE: We can only concatnate one string with another. Integer cannot be concatinated\n",
    "\n",
    "#FUNCTIONS: Function is a set of predefined code used to perform a particular task. We use function to modify or get information regarding the string\n",
    "print(phrase.lower())\n",
    "print(phrase.upper())\n",
    "print(phrase.isupper())\n",
    "print(phrase.upper().isupper()) #using functions in combination\n",
    "print(len(phrase))\n",
    "#USING INDEX\n",
    "print(phrase[0]) # [] sign is used to grab a particular charecter from the string\n",
    "print(phrase[4])\n",
    "print(phrase.index(\"m\")) # .index function returns the index value of charecter given as a parameter.\n",
    "print(phrase.index(\"Pawar\"))\n",
    "print(phrase.replace(\"Pawar\", \"Mehta\"))\n",
    "print(phrase)\n",
    "print(phrase.replace(\"Vikram Pawar\", \"Ashish Mehta\"))"
   ]
  },
  {
   "cell_type": "code",
   "execution_count": null,
   "metadata": {},
   "outputs": [],
   "source": [
    "# WORKING WITH NUMBERS IN PYTHON"
   ]
  },
  {
   "cell_type": "code",
   "execution_count": 35,
   "metadata": {},
   "outputs": [
    {
     "name": "stdout",
     "output_type": "stream",
     "text": [
      "2\n",
      "2.5\n",
      "-2.5\n"
     ]
    }
   ],
   "source": [
    "# Numbers or integers are printed directly without using \"\". If we use \"\", int becomes a string\n",
    "print(2)\n",
    "print(2.5)\n",
    "print(-2.5)"
   ]
  },
  {
   "cell_type": "code",
   "execution_count": 39,
   "metadata": {},
   "outputs": [
    {
     "name": "stdout",
     "output_type": "stream",
     "text": [
      "43\n",
      "13.102000000000002\n",
      "256200\n",
      "3.3333333333333335\n",
      "4\n",
      "20\n",
      "30\n"
     ]
    }
   ],
   "source": [
    "# we can carry out simple arithmetic operations in python for integers\n",
    "print(3+40)\n",
    "print(20.356-7.254)\n",
    "print(100*2562)\n",
    "print(20/6)\n",
    "print(10%6)\n",
    "\n",
    "print(3*5+5)\n",
    "print(3*(5+5)) #giving preference to operations using ()"
   ]
  },
  {
   "cell_type": "code",
   "execution_count": 50,
   "metadata": {},
   "outputs": [
    {
     "name": "stdout",
     "output_type": "stream",
     "text": [
      "5\n",
      "5 is my favourite number\n",
      "10\n",
      "1000000.0\n",
      "19\n",
      "2\n",
      "3\n",
      "7.0\n",
      "3\n",
      "6\n",
      "5.0\n"
     ]
    }
   ],
   "source": [
    "# We can save the numbers in a variable\n",
    "num = 5 \n",
    "print(num)\n",
    "\n",
    "print(str(num) + \" is my favourite number\") #str function is used to convert a number into a string\n",
    "\n",
    "#Using some math functions\n",
    "num = -10\n",
    "print(abs(num))\n",
    "print(pow(10,6))\n",
    "print(max(12,19))\n",
    "print(min(2,32))\n",
    "print(round(2.5612))\n",
    "print(sqrt(49))\n",
    "\n",
    "# IMPORTING SOME ADDITIONAL MATH FUNCTIONS\n",
    "from math import *\n",
    "print(floor(3.99999)) # floor function is used to grab the lowest number, that means 3.99 becomes 3 and not 4\n",
    "print(ceil(5.111)) # ceil function is used to grab the highest number, that means 5.1 becomes 6 and not 5\n",
    "print(sqrt(25))"
   ]
  },
  {
   "cell_type": "code",
   "execution_count": null,
   "metadata": {},
   "outputs": [],
   "source": [
    "#GETTING INPUT FROM USERS"
   ]
  },
  {
   "cell_type": "code",
   "execution_count": 52,
   "metadata": {},
   "outputs": [
    {
     "name": "stdout",
     "output_type": "stream",
     "text": [
      "Please enter your name:Ashish\n",
      "Please enter your age:24\n",
      "Hello Ashish! You are 24\n"
     ]
    }
   ],
   "source": [
    "name = input(\"Please enter your name:\")\n",
    "age = input(\"Please enter your age:\")\n",
    "print(\"Hello \" + name + \"! You are \" + age)"
   ]
  },
  {
   "cell_type": "code",
   "execution_count": null,
   "metadata": {},
   "outputs": [],
   "source": [
    "#MAKING A SIMPLE CALCULATOR"
   ]
  },
  {
   "cell_type": "code",
   "execution_count": 54,
   "metadata": {},
   "outputs": [
    {
     "name": "stdout",
     "output_type": "stream",
     "text": [
      "Enter the first number:22\n",
      "Enter the second number:24.54\n",
      "46.54\n"
     ]
    }
   ],
   "source": [
    "num1 = input(\"Enter the first number:\")\n",
    "num2 = input(\"Enter the second number:\")\n",
    "addition = float(num1) + float(num2)\n",
    "print(addition)"
   ]
  },
  {
   "cell_type": "code",
   "execution_count": null,
   "metadata": {},
   "outputs": [],
   "source": [
    "#CREATING A MAD LIBS GAME IN PYTHON"
   ]
  },
  {
   "cell_type": "code",
   "execution_count": 2,
   "metadata": {},
   "outputs": [
    {
     "name": "stdout",
     "output_type": "stream",
     "text": [
      "Please enter a colour: Yellow\n",
      "Please enter a plural noun: Jeans\n",
      "Please enter the name of a celebrity: Will Smith\n",
      "Roses are Yellow\n",
      "Jeans are Blue\n",
      "I Love Will Smith\n"
     ]
    }
   ],
   "source": [
    "colour = input (\"Please enter a colour: \")\n",
    "plural_noun = input(\"Please enter a plural noun: \")\n",
    "celebrity = input(\"Please enter the name of a celebrity: \")\n",
    "\n",
    "print (\"Roses are \" + colour)\n",
    "print (plural_noun + \" are Blue\")\n",
    "print(\"I Love \" + celebrity)"
   ]
  },
  {
   "cell_type": "code",
   "execution_count": null,
   "metadata": {},
   "outputs": [],
   "source": [
    "#LISTS in Python"
   ]
  },
  {
   "cell_type": "code",
   "execution_count": 7,
   "metadata": {},
   "outputs": [
    {
     "name": "stdout",
     "output_type": "stream",
     "text": [
      "['Red', 'Green', 'Orange', 'Yellow', 'Pink', 'Grey', 'Golden']\n",
      "Orange\n",
      "['Green', 'Orange', 'Yellow']\n",
      "['Orange', 'Yellow', 'Pink', 'Grey', 'Golden']\n",
      "['Red', 'Green', 'Orange', 'Black', 'Pink', 'Grey', 'Golden']\n"
     ]
    }
   ],
   "source": [
    "colours = [\"Red\", \"Green\", \"Orange\", \"Yellow\", \"Pink\", \"Grey\", \"Golden\"]\n",
    "print(colours)\n",
    "print(colours[2])\n",
    "print(colours[1:4])\n",
    "print(colours[2:])\n",
    "colours[3] = \"Black\"\n",
    "print(colours)"
   ]
  },
  {
   "cell_type": "code",
   "execution_count": null,
   "metadata": {},
   "outputs": [],
   "source": [
    "#LIST FUNCTIONS"
   ]
  },
  {
   "cell_type": "code",
   "execution_count": 24,
   "metadata": {},
   "outputs": [
    {
     "name": "stdout",
     "output_type": "stream",
     "text": [
      "['Red', 'Green', 'Orange', 'Yellow', 'Pink', 'Grey', 'Golden', 7, 8, 12, 19, 25, 55]\n",
      "['Red', 'Green', 'Orange', 'Yellow', 'Pink', 'Grey', 'Golden', 7, 8, 12, 19, 25, 55, 'Magenta']\n",
      "['Red', 'Green', 'Orange', 'Greatness', 'Yellow', 'Pink', 'Grey', 'Golden', 7, 8, 12, 19, 25, 55, 'Magenta']\n",
      "['Red', 'Green', 'Orange', 'Greatness', 'Yellow', 'Pink', 'Grey', 'Golden', 7, 8, 12, 19, 55, 'Magenta']\n",
      "[]\n",
      "['Red', 'Green', 'Orange', 'Yellow', 'Pink', 'Grey', 'Golden']\n",
      "['Red', 'Green', 'Orange', 'Yellow', 'Pink', 'Grey']\n",
      "4\n"
     ]
    },
    {
     "ename": "ValueError",
     "evalue": "'White' is not in list",
     "output_type": "error",
     "traceback": [
      "\u001b[1;31m---------------------------------------------------------------------------\u001b[0m",
      "\u001b[1;31mValueError\u001b[0m                                Traceback (most recent call last)",
      "\u001b[1;32m<ipython-input-24-8cc20414a75a>\u001b[0m in \u001b[0;36m<module>\u001b[1;34m\u001b[0m\n\u001b[0;32m     16\u001b[0m \u001b[0mprint\u001b[0m\u001b[1;33m(\u001b[0m\u001b[0mcolours\u001b[0m\u001b[1;33m)\u001b[0m\u001b[1;33m\u001b[0m\u001b[1;33m\u001b[0m\u001b[0m\n\u001b[0;32m     17\u001b[0m \u001b[0mprint\u001b[0m\u001b[1;33m(\u001b[0m\u001b[0mcolours\u001b[0m\u001b[1;33m.\u001b[0m\u001b[0mindex\u001b[0m\u001b[1;33m(\u001b[0m\u001b[1;34m\"Pink\"\u001b[0m\u001b[1;33m)\u001b[0m\u001b[1;33m)\u001b[0m \u001b[1;31m#This command is used to check if an item is present in the list or not. If the item is present, its index will pop up in the output else it will give an error\u001b[0m\u001b[1;33m\u001b[0m\u001b[1;33m\u001b[0m\u001b[0m\n\u001b[1;32m---> 18\u001b[1;33m \u001b[0mprint\u001b[0m\u001b[1;33m(\u001b[0m\u001b[0mcolours\u001b[0m\u001b[1;33m.\u001b[0m\u001b[0mindex\u001b[0m\u001b[1;33m(\u001b[0m\u001b[1;34m\"White\"\u001b[0m\u001b[1;33m)\u001b[0m\u001b[1;33m)\u001b[0m\u001b[1;33m\u001b[0m\u001b[1;33m\u001b[0m\u001b[0m\n\u001b[0m",
      "\u001b[1;31mValueError\u001b[0m: 'White' is not in list"
     ]
    }
   ],
   "source": [
    "lucky_numbers = [7, 8, 12, 19, 25, 55]\n",
    "colours = [\"Red\", \"Green\", \"Orange\", \"Yellow\", \"Pink\", \"Grey\", \"Golden\"]\n",
    "colours.extend(lucky_numbers) #.extend is used to merge two lists\n",
    "print(colours)\n",
    "colours.append(\"Magenta\") #append always adds an item to the end of a list\n",
    "print(colours)\n",
    "colours.insert(3, \"Greatness\")\n",
    "print(colours)\n",
    "colours.remove(25)\n",
    "print(colours)\n",
    "colours.clear() # .clear() is used to clear the entire list\n",
    "print(colours)\n",
    "colours = [\"Red\", \"Green\", \"Orange\", \"Yellow\", \"Pink\", \"Grey\", \"Golden\"]\n",
    "print(colours)\n",
    "colours.pop() # .pop() always removes the last element from the list\n",
    "print(colours)\n",
    "print(colours.index(\"Pink\")) #This command is used to check if an item is present in the list or not. If the item is present, its index will pop up in the output else it will give an error\n",
    "print(colours.index(\"White\"))"
   ]
  },
  {
   "cell_type": "code",
   "execution_count": null,
   "metadata": {},
   "outputs": [],
   "source": [
    "#LIST FUNCTIONS continued"
   ]
  },
  {
   "cell_type": "code",
   "execution_count": 31,
   "metadata": {},
   "outputs": [
    {
     "name": "stdout",
     "output_type": "stream",
     "text": [
      "['Golden', 'Green', 'Grey', 'Orange', 'Pink', 'Red', 'Red', 'Red', 'Yellow', 'red']\n",
      "[23, 45, 67, 98, 37, 23]\n",
      "[23, 23, 37, 45, 67, 98]\n",
      "[98, 67, 45, 37, 23, 23]\n",
      "[98, 67, 45, 37, 23, 23]\n"
     ]
    }
   ],
   "source": [
    "colours = [\"Red\", \"Green\", \"Orange\", \"Yellow\", \"Pink\", \"Grey\", \"Golden\", \"Red\", \"red\", \"Red\"]\n",
    "colours.count(\"Red\") #.count() is used to count the number of similar elements in the list\n",
    "colours.sort() #sorts the list in ascending or alphabetical order\n",
    "print(colours)\n",
    "colours.count(\"Red\")\n",
    "num = [23, 45, 67, 98, 37, 23]\n",
    "print(num)\n",
    "num.sort()\n",
    "print(num)\n",
    "num.reverse() #it reverses the current order of the list\n",
    "print(num)\n",
    "num2 = num.copy() # .copy() function creates a copy of existing list and saves it in a new variable\n",
    "print(num2)"
   ]
  },
  {
   "cell_type": "code",
   "execution_count": null,
   "metadata": {},
   "outputs": [],
   "source": [
    "#TUPLES IN PYTHON"
   ]
  },
  {
   "cell_type": "code",
   "execution_count": 37,
   "metadata": {},
   "outputs": [
    {
     "name": "stdout",
     "output_type": "stream",
     "text": [
      "1\n"
     ]
    },
    {
     "ename": "TypeError",
     "evalue": "'tuple' object does not support item assignment",
     "output_type": "error",
     "traceback": [
      "\u001b[1;31m---------------------------------------------------------------------------\u001b[0m",
      "\u001b[1;31mTypeError\u001b[0m                                 Traceback (most recent call last)",
      "\u001b[1;32m<ipython-input-37-2a88d7467e74>\u001b[0m in \u001b[0;36m<module>\u001b[1;34m\u001b[0m\n\u001b[0;32m      1\u001b[0m \u001b[0mx_yaxis\u001b[0m \u001b[1;33m=\u001b[0m \u001b[1;33m(\u001b[0m\u001b[1;36m2\u001b[0m\u001b[1;33m,\u001b[0m\u001b[1;36m3\u001b[0m\u001b[1;33m)\u001b[0m \u001b[1;31m# creating a tuple\u001b[0m\u001b[1;33m\u001b[0m\u001b[1;33m\u001b[0m\u001b[0m\n\u001b[0;32m      2\u001b[0m \u001b[0mprint\u001b[0m\u001b[1;33m(\u001b[0m\u001b[0mx_yaxis\u001b[0m\u001b[1;33m.\u001b[0m\u001b[0mindex\u001b[0m\u001b[1;33m(\u001b[0m\u001b[1;36m3\u001b[0m\u001b[1;33m)\u001b[0m\u001b[1;33m)\u001b[0m\u001b[1;33m\u001b[0m\u001b[1;33m\u001b[0m\u001b[0m\n\u001b[1;32m----> 3\u001b[1;33m \u001b[0mx_yaxis\u001b[0m\u001b[1;33m[\u001b[0m\u001b[1;36m0\u001b[0m\u001b[1;33m]\u001b[0m \u001b[1;33m=\u001b[0m \u001b[1;36m10\u001b[0m \u001b[1;31m# we cannot change or modify an element in Tuple\u001b[0m\u001b[1;33m\u001b[0m\u001b[1;33m\u001b[0m\u001b[0m\n\u001b[0m\u001b[0;32m      4\u001b[0m \u001b[0mprint\u001b[0m\u001b[1;33m(\u001b[0m\u001b[0mx_yaxis\u001b[0m\u001b[1;33m)\u001b[0m\u001b[1;33m\u001b[0m\u001b[1;33m\u001b[0m\u001b[0m\n\u001b[0;32m      5\u001b[0m \u001b[0mcoordinates\u001b[0m \u001b[1;33m=\u001b[0m \u001b[1;33m[\u001b[0m\u001b[1;33m(\u001b[0m\u001b[1;36m2\u001b[0m\u001b[1;33m,\u001b[0m\u001b[1;36m3\u001b[0m\u001b[1;33m)\u001b[0m\u001b[1;33m,\u001b[0m \u001b[1;33m(\u001b[0m\u001b[1;36m3\u001b[0m\u001b[1;33m,\u001b[0m\u001b[1;36m6\u001b[0m\u001b[1;33m)\u001b[0m\u001b[1;33m,\u001b[0m \u001b[1;33m(\u001b[0m\u001b[1;36m7\u001b[0m\u001b[1;33m,\u001b[0m\u001b[1;36m8\u001b[0m\u001b[1;33m)\u001b[0m\u001b[1;33m,\u001b[0m \u001b[1;33m(\u001b[0m\u001b[1;36m12\u001b[0m\u001b[1;33m,\u001b[0m\u001b[1;36m18\u001b[0m\u001b[1;33m)\u001b[0m\u001b[1;33m,\u001b[0m \u001b[1;33m(\u001b[0m\u001b[1;36m17\u001b[0m\u001b[1;33m,\u001b[0m\u001b[1;36m22\u001b[0m\u001b[1;33m)\u001b[0m\u001b[1;33m]\u001b[0m\u001b[1;33m\u001b[0m\u001b[1;33m\u001b[0m\u001b[0m\n",
      "\u001b[1;31mTypeError\u001b[0m: 'tuple' object does not support item assignment"
     ]
    }
   ],
   "source": [
    "x_yaxis = (2,3) # creating a tuple\n",
    "print(x_yaxis.index(3))\n",
    "x_yaxis[0] = 10 # we cannot change or modify an element in Tuple\n",
    "print(x_yaxis)\n"
   ]
  },
  {
   "cell_type": "code",
   "execution_count": 38,
   "metadata": {},
   "outputs": [
    {
     "name": "stdout",
     "output_type": "stream",
     "text": [
      "(12, 18)\n"
     ]
    }
   ],
   "source": [
    "coordinates = [(2,3), (3,6), (7,8), (12,18), (17,22)] #creating a list of tuples\n",
    "print(coordinates[3])"
   ]
  },
  {
   "cell_type": "code",
   "execution_count": null,
   "metadata": {},
   "outputs": [],
   "source": [
    "#CREATING A FUNCTION IN PYTHON"
   ]
  },
  {
   "cell_type": "code",
   "execution_count": 39,
   "metadata": {},
   "outputs": [
    {
     "name": "stdout",
     "output_type": "stream",
     "text": [
      "Hello user\n"
     ]
    }
   ],
   "source": [
    "def say_hi():\n",
    "    print(\"Hello user\")\n",
    "    \n",
    "say_hi()"
   ]
  },
  {
   "cell_type": "code",
   "execution_count": null,
   "metadata": {},
   "outputs": [],
   "source": [
    "# PASSING PARAMETERS TO A FUNCTION"
   ]
  },
  {
   "cell_type": "code",
   "execution_count": null,
   "metadata": {},
   "outputs": [],
   "source": [
    "#Parameters are basically information which we give to a function so that the information can be used in the function"
   ]
  },
  {
   "cell_type": "code",
   "execution_count": 42,
   "metadata": {},
   "outputs": [
    {
     "name": "stdout",
     "output_type": "stream",
     "text": [
      "Hello Ashish! You are 25\n",
      "Hello Vikram! You are 34\n"
     ]
    }
   ],
   "source": [
    "def say_hi(name, age):\n",
    "    print(\"Hello \" + name + \"! You are \"+ str(age))\n",
    "    \n",
    "say_hi(\"Ashish\", 25)\n",
    "say_hi(\"Vikram\", 34)"
   ]
  },
  {
   "cell_type": "code",
   "execution_count": null,
   "metadata": {},
   "outputs": [],
   "source": [
    "#RETURN STATEMENT"
   ]
  },
  {
   "cell_type": "code",
   "execution_count": null,
   "metadata": {},
   "outputs": [],
   "source": [
    "# A RETURN statement is very useful. Whenever we create a function, and if we want the function to give us some information back, we use Return statement.\n",
    "# If we dont use return statement, the function will not return any value."
   ]
  },
  {
   "cell_type": "code",
   "execution_count": 43,
   "metadata": {},
   "outputs": [
    {
     "name": "stdout",
     "output_type": "stream",
     "text": [
      "None\n"
     ]
    }
   ],
   "source": [
    "def cube(num):\n",
    "    num*num*num\n",
    "\n",
    "print(cube(3))"
   ]
  },
  {
   "cell_type": "code",
   "execution_count": 45,
   "metadata": {},
   "outputs": [
    {
     "name": "stdout",
     "output_type": "stream",
     "text": [
      "27\n"
     ]
    }
   ],
   "source": [
    "def cube(num):\n",
    "    return num*num*num\n",
    "    print(\"Will this be printed?\") # Any code that we write inside indentation after return statement wont be executed. The return statement breaks the code.\n",
    "print(cube(3))"
   ]
  },
  {
   "cell_type": "code",
   "execution_count": 47,
   "metadata": {},
   "outputs": [],
   "source": [
    "#IF STATEMENT WITH AND & OR KEY WORDS"
   ]
  },
  {
   "cell_type": "code",
   "execution_count": 2,
   "metadata": {},
   "outputs": [
    {
     "name": "stdout",
     "output_type": "stream",
     "text": [
      "You are a female\n"
     ]
    }
   ],
   "source": [
    "is_male = False # for if statement, it is necessary to have a boolean expression\n",
    "\n",
    "if is_male == True:\n",
    "    print (\"You are a male\")\n",
    "else:\n",
    "    print(\"You are a female\")"
   ]
  },
  {
   "cell_type": "code",
   "execution_count": 5,
   "metadata": {},
   "outputs": [
    {
     "name": "stdout",
     "output_type": "stream",
     "text": [
      "You are a male and you are tall\n"
     ]
    }
   ],
   "source": [
    "is_male = True # for if statement, it is necessary to have a boolean expression\n",
    "is_tall = True\n",
    "if is_male == True and is_tall == True:\n",
    "    print (\"You are a male and you are tall\")\n",
    "elif is_male == True or is_tall == True:\n",
    "    print(\"You are either male or you are tall\")\n",
    "elif is_male == False:\n",
    "    print(\"You are a female\")\n",
    "else:\n",
    "    print(\"Either you are not a male or you are not tall or both are not true\")\n",
    "    \n",
    "# \"not\" keyword can also be used to negate a boolean element\n",
    "#eg: elif not(is_male):\n",
    "#          print(\"You are a female\") "
   ]
  },
  {
   "cell_type": "code",
   "execution_count": null,
   "metadata": {},
   "outputs": [],
   "source": [
    "# == sign is used to check if both values are equal\n",
    "# != means not equal to"
   ]
  },
  {
   "cell_type": "code",
   "execution_count": 6,
   "metadata": {},
   "outputs": [],
   "source": [
    "#IF STATEMENT WITH COMPARISON"
   ]
  },
  {
   "cell_type": "code",
   "execution_count": 8,
   "metadata": {},
   "outputs": [
    {
     "name": "stdout",
     "output_type": "stream",
     "text": [
      "431\n"
     ]
    }
   ],
   "source": [
    "def max_num(num1, num2, num3):\n",
    "    if num1 >= num2 and num1 >=num3:\n",
    "        return num1\n",
    "    elif num2 >= num1 and num2 >= num3:\n",
    "        return num2\n",
    "    else:\n",
    "        return num3\n",
    "    \n",
    "print(max_num(3,431,56))"
   ]
  },
  {
   "cell_type": "code",
   "execution_count": null,
   "metadata": {},
   "outputs": [],
   "source": [
    "#BUILDING A BETTER CALCULATOR"
   ]
  },
  {
   "cell_type": "code",
   "execution_count": 12,
   "metadata": {},
   "outputs": [
    {
     "name": "stdout",
     "output_type": "stream",
     "text": [
      "Enter the first number: 25\n",
      "Enter the operator: ;\n",
      "Enter the second number: 26\n",
      "Invalid operator\n"
     ]
    }
   ],
   "source": [
    "num1 = float(input(\"Enter the first number: \"))\n",
    "op = input(\"Enter the operator: \")\n",
    "num2 = float(input(\"Enter the second number: \"))\n",
    "\n",
    "if op == \"+\":\n",
    "    result = num1 + num2\n",
    "    print(result)\n",
    "elif op == \"-\":\n",
    "    result = num1 - num2\n",
    "    print(result)\n",
    "elif op == \"*\":\n",
    "    result = num1 * num2\n",
    "    print(result)\n",
    "elif op == \"/\":\n",
    "    result = num1/num2\n",
    "    print (result)\n",
    "else:\n",
    "    print(\"Invalid operator\")"
   ]
  },
  {
   "cell_type": "code",
   "execution_count": null,
   "metadata": {},
   "outputs": [],
   "source": [
    "#DICTIONARIES IN PYTHON"
   ]
  },
  {
   "cell_type": "code",
   "execution_count": null,
   "metadata": {},
   "outputs": [],
   "source": [
    "# Dictionaries are key-value pairs stored inside {}\n",
    "# The word before : is the key and the word after : associated with the key is values.\n",
    "# We can access the values with the keys associated with it\n",
    "# All the keys inside {} have to be UNIQUE. Two key words cannot be the same\n",
    "# The keys or the values can be string, num, or any data type"
   ]
  },
  {
   "cell_type": "code",
   "execution_count": 15,
   "metadata": {},
   "outputs": [
    {
     "name": "stdout",
     "output_type": "stream",
     "text": [
      "September\n",
      "November\n"
     ]
    }
   ],
   "source": [
    "# To convert a 3 letter month into a full word\n",
    "month_convertor = { \"Jan\": \"January\", \"Feb\": \"February\", \"Mar\": \"March\", \"Apr\": \"April\", \"May\": \"May\", \"Jun\": \"June\", \n",
    "                  \"Jul\": \"July\", \"Aug\": \"August\", \"Sep\": \"September\", \"Oct\": \"October\", \"Nov\": \"November\", \"Dec\": \"December\"}\n",
    "\n",
    "print(month_convertor.get(\"Sep\"))\n",
    "print(month_convertor.get(\"Nov\"))"
   ]
  },
  {
   "cell_type": "code",
   "execution_count": 16,
   "metadata": {},
   "outputs": [
    {
     "name": "stdout",
     "output_type": "stream",
     "text": [
      "March\n"
     ]
    }
   ],
   "source": [
    "month_convertor = { 1: \"January\", 2: \"February\", 3: \"March\", 4: \"April\", 5: \"May\", 6: \"June\", \n",
    "                  7: \"July\", 8: \"August\", 9: \"September\", 10: \"October\", 11: \"November\", 12: \"December\"}\n",
    "\n",
    "print(month_convertor.get(3))"
   ]
  },
  {
   "cell_type": "code",
   "execution_count": 17,
   "metadata": {},
   "outputs": [
    {
     "name": "stdout",
     "output_type": "stream",
     "text": [
      "12\n"
     ]
    }
   ],
   "source": [
    "month_convertor = { \"Jan\":1, \"Feb\": 2, \"Mar\": 3, \"Apr\": 4, \"May\": 5, \"Jun\": 6, \n",
    "                  \"Jul\": 7, \"Aug\": 8, \"Sep\": 9, \"Oct\": 10, \"Nov\": 11, \"Dec\": 12}\n",
    "\n",
    "print(month_convertor.get(\"Dec\"))"
   ]
  },
  {
   "cell_type": "code",
   "execution_count": null,
   "metadata": {},
   "outputs": [],
   "source": [
    "#WHILE LOOP"
   ]
  },
  {
   "cell_type": "code",
   "execution_count": null,
   "metadata": {},
   "outputs": [],
   "source": [
    "# While loop is used to run a particular set of code again and again, until a particular condition is satisfied"
   ]
  },
  {
   "cell_type": "code",
   "execution_count": 19,
   "metadata": {},
   "outputs": [
    {
     "name": "stdout",
     "output_type": "stream",
     "text": [
      "1\n",
      "2\n",
      "3\n",
      "4\n",
      "5\n",
      "6\n",
      "7\n",
      "8\n",
      "9\n",
      "10\n",
      "Done with loop\n"
     ]
    }
   ],
   "source": [
    "i= 1\n",
    "while i <= 10:\n",
    "    print (i)\n",
    "    i = i+1\n",
    "    \n",
    "print(\"Done with loop\")"
   ]
  },
  {
   "cell_type": "code",
   "execution_count": null,
   "metadata": {},
   "outputs": [],
   "source": [
    "#BUILDING A GUESSING GAME"
   ]
  },
  {
   "cell_type": "code",
   "execution_count": 6,
   "metadata": {},
   "outputs": [
    {
     "name": "stdout",
     "output_type": "stream",
     "text": [
      "Please enter the password: Harun\n",
      "Please enter the password: Greatness\n",
      "You win!!\n"
     ]
    }
   ],
   "source": [
    "secret_msg = \"Greatness\"\n",
    "guesses = \"\"\n",
    "no_of_guesses = 1\n",
    "limit = 3\n",
    "out_of_guesses = False\n",
    "\n",
    "while guesses != secret_msg and out_of_guesses == False:\n",
    "    if no_of_guesses <= limit:\n",
    "        guesses =  input(\"Please enter the password: \")\n",
    "        no_of_guesses = no_of_guesses + 1\n",
    "    else:\n",
    "        out_of_guesses = True\n",
    "if out_of_guesses == True:\n",
    "    print (\"Sorry, You Lose!!\")\n",
    "else:\n",
    "    print(\"You win!!\")"
   ]
  },
  {
   "cell_type": "code",
   "execution_count": 8,
   "metadata": {},
   "outputs": [
    {
     "name": "stdout",
     "output_type": "stream",
     "text": [
      "Please enter the password: Greatness\n",
      "You win!!\n"
     ]
    }
   ],
   "source": [
    "secret_msg = \"Greatness\"\n",
    "guesses = \"\"\n",
    "no_of_guesses = 1\n",
    "limit = 3\n",
    "\n",
    "while guesses != secret_msg and no_of_guesses <= limit:\n",
    "        guesses =  input(\"Please enter the password: \")\n",
    "        no_of_guesses = no_of_guesses + 1\n",
    "\n",
    "if guesses != secret_msg and no_of_guesses > limit:\n",
    "    print(\"Chances over.. You Lose!!\")\n",
    "else:\n",
    "    print(\"You win!!\")"
   ]
  },
  {
   "cell_type": "code",
   "execution_count": null,
   "metadata": {},
   "outputs": [],
   "source": [
    "#FOR LOOP"
   ]
  },
  {
   "cell_type": "code",
   "execution_count": null,
   "metadata": {},
   "outputs": [],
   "source": [
    "#A for loop is used to iterate over a sequence. The sequence can be either a list or a tuple, dictionary, string, range etc."
   ]
  },
  {
   "cell_type": "code",
   "execution_count": 1,
   "metadata": {},
   "outputs": [
    {
     "name": "stdout",
     "output_type": "stream",
     "text": [
      "A\n",
      "s\n",
      "h\n",
      "i\n",
      "s\n",
      "h\n",
      " \n",
      "i\n",
      "s\n",
      " \n",
      "M\n",
      "e\n",
      "h\n",
      "t\n",
      "a\n"
     ]
    }
   ],
   "source": [
    "for letter in \"Ashish is Mehta\":\n",
    "    print(letter)"
   ]
  },
  {
   "cell_type": "code",
   "execution_count": 3,
   "metadata": {},
   "outputs": [
    {
     "name": "stdout",
     "output_type": "stream",
     "text": [
      "1\n",
      "4\n",
      "7\n",
      "10\n",
      "13\n",
      "16\n",
      "19\n",
      "22\n",
      "25\n",
      "28\n",
      "31\n",
      "34\n",
      "37\n",
      "40\n",
      "43\n",
      "46\n",
      "49\n",
      "52\n",
      "55\n",
      "58\n",
      "61\n",
      "64\n",
      "67\n",
      "70\n",
      "73\n",
      "76\n",
      "79\n",
      "82\n",
      "85\n",
      "88\n",
      "91\n",
      "94\n",
      "97\n"
     ]
    }
   ],
   "source": [
    "for num in range (1,100,3):\n",
    "    print(num)"
   ]
  },
  {
   "cell_type": "code",
   "execution_count": 4,
   "metadata": {},
   "outputs": [
    {
     "name": "stdout",
     "output_type": "stream",
     "text": [
      "Vikram\n",
      "Abhi\n",
      "Pallu\n"
     ]
    }
   ],
   "source": [
    "friends = [\"Vikram\", \"Abhi\", \"Pallu\"]\n",
    "for friend in friends:\n",
    "    print (friend)"
   ]
  },
  {
   "cell_type": "code",
   "execution_count": 6,
   "metadata": {},
   "outputs": [
    {
     "name": "stdout",
     "output_type": "stream",
     "text": [
      "First iteration\n",
      "Not First\n",
      "Not First\n",
      "Not First\n",
      "Not First\n"
     ]
    }
   ],
   "source": [
    "for i in range(1,10,2):\n",
    "    if i == 1:\n",
    "        print(\"First iteration\")\n",
    "    else:\n",
    "        print(\"Not First\")"
   ]
  },
  {
   "cell_type": "code",
   "execution_count": null,
   "metadata": {},
   "outputs": [],
   "source": [
    "#CREATE AN EXPONENTIAL FUNCTION"
   ]
  },
  {
   "cell_type": "code",
   "execution_count": 7,
   "metadata": {},
   "outputs": [
    {
     "name": "stdout",
     "output_type": "stream",
     "text": [
      "27\n"
     ]
    }
   ],
   "source": [
    "# In python, there is inbuilt exponential function\n",
    "print(3**3)"
   ]
  },
  {
   "cell_type": "code",
   "execution_count": 8,
   "metadata": {},
   "outputs": [
    {
     "name": "stdout",
     "output_type": "stream",
     "text": [
      "243\n"
     ]
    }
   ],
   "source": [
    "#but for practice, we will create an exponential function using a for loop\n",
    "def expo(base_num, pow_num):\n",
    "    result = 1\n",
    "    for i in range(pow_num):\n",
    "        result = result * base_num\n",
    "    return result\n",
    "\n",
    "print(expo(3,5))"
   ]
  },
  {
   "cell_type": "code",
   "execution_count": null,
   "metadata": {},
   "outputs": [],
   "source": [
    "#2D LISTS AND NESTED LOOPS"
   ]
  },
  {
   "cell_type": "code",
   "execution_count": null,
   "metadata": {},
   "outputs": [],
   "source": [
    "#A 2D list is basically multiple list inside a single list"
   ]
  },
  {
   "cell_type": "code",
   "execution_count": 15,
   "metadata": {},
   "outputs": [
    {
     "name": "stdout",
     "output_type": "stream",
     "text": [
      "[[1, 2, 3], [4, 5, 6], [7, 8, 9], [0]]\n",
      "3\n",
      "1\n",
      "2\n",
      "3\n",
      "4\n",
      "5\n",
      "6\n",
      "7\n",
      "8\n",
      "9\n",
      "0\n"
     ]
    }
   ],
   "source": [
    "num_grid = [[1,2,3], [4,5,6], [7,8,9], [0]]\n",
    "\n",
    "print(num_grid)\n",
    "print(num_grid[0][2]) # This is used to access single element in the inner list. The first[] is row number, second[] is col number\n",
    "\n",
    "#Nested for loop: It is the for loop inside the for loop\n",
    "for row in num_grid:\n",
    "    for col in row:\n",
    "        print (col)"
   ]
  },
  {
   "cell_type": "code",
   "execution_count": null,
   "metadata": {},
   "outputs": [],
   "source": [
    "# BUILD A TRANSLATOR\n",
    "\n",
    "# The Giraffe language:\n",
    "#If the letter is a vowel, convert it to g.\n",
    "#eg: dog == dgg\n",
    "    #cat == cgt\n",
    "    #good == gggd"
   ]
  },
  {
   "cell_type": "code",
   "execution_count": 20,
   "metadata": {},
   "outputs": [
    {
     "name": "stdout",
     "output_type": "stream",
     "text": [
      "Please enter a word or a phrase: Om\n",
      "Gm\n"
     ]
    }
   ],
   "source": [
    "def translate(phrase):\n",
    "    word = \"\"\n",
    "    for letter in phrase:\n",
    "        if letter in (\"AEIOUaeiou\"):\n",
    "            if letter.isupper():\n",
    "                word = word + \"G\"\n",
    "            else:\n",
    "                word = word + \"g\"\n",
    "        else:\n",
    "            word = word + letter\n",
    "        \n",
    "    return word\n",
    "\n",
    "print(translate(input(\"Please enter a word or a phrase: \")))"
   ]
  },
  {
   "cell_type": "code",
   "execution_count": null,
   "metadata": {},
   "outputs": [],
   "source": [
    "#COMMENTS IN PYTHON"
   ]
  },
  {
   "cell_type": "code",
   "execution_count": 1,
   "metadata": {},
   "outputs": [],
   "source": [
    "# A comment is basically a line in our python file that does not get rendered or executed in the output section\n",
    "# When python sees a line of comment, it ignores it and does not get executed\n",
    "# Comments are for humans. We give comments so that others can understand what the code is.\n",
    "# Comments can also be used to comment out a line or a block of code. This means, we can make a line of code unexecutable without deleting the code"
   ]
  },
  {
   "cell_type": "code",
   "execution_count": 2,
   "metadata": {},
   "outputs": [
    {
     "name": "stdout",
     "output_type": "stream",
     "text": [
      "Hello! I am Ashish.\n"
     ]
    }
   ],
   "source": [
    "#Eg. of comment\n",
    "\n",
    "print(\"Hello! I am Ashish.\") #This line prints the string\n",
    "\n",
    "#print(\"I go to gym everyday\")\n",
    "# the print statement above has been commented out. Hence it wont be executed."
   ]
  },
  {
   "cell_type": "code",
   "execution_count": null,
   "metadata": {},
   "outputs": [],
   "source": [
    "#TRY EXCEPT"
   ]
  },
  {
   "cell_type": "code",
   "execution_count": null,
   "metadata": {},
   "outputs": [],
   "source": [
    "# Try except is used to catch any error in python and give out info under except if that type of error is caught.\n",
    "# Due to this, if there is an error in i/p or o/p, the program wont stop executing, but will send out a message"
   ]
  },
  {
   "cell_type": "code",
   "execution_count": 4,
   "metadata": {},
   "outputs": [
    {
     "name": "stdout",
     "output_type": "stream",
     "text": [
      "Please enter a number23\n",
      "23\n"
     ]
    }
   ],
   "source": [
    "num = int(input(\"Please enter a number\"))\n",
    "print (num)\n"
   ]
  },
  {
   "cell_type": "code",
   "execution_count": 5,
   "metadata": {},
   "outputs": [
    {
     "name": "stdout",
     "output_type": "stream",
     "text": [
      "Please enter a numberashish\n"
     ]
    },
    {
     "ename": "ValueError",
     "evalue": "invalid literal for int() with base 10: 'ashish'",
     "output_type": "error",
     "traceback": [
      "\u001b[1;31m---------------------------------------------------------------------------\u001b[0m",
      "\u001b[1;31mValueError\u001b[0m                                Traceback (most recent call last)",
      "\u001b[1;32m<ipython-input-5-d5e39de79946>\u001b[0m in \u001b[0;36m<module>\u001b[1;34m\u001b[0m\n\u001b[1;32m----> 1\u001b[1;33m \u001b[0mnum\u001b[0m \u001b[1;33m=\u001b[0m \u001b[0mint\u001b[0m\u001b[1;33m(\u001b[0m\u001b[0minput\u001b[0m\u001b[1;33m(\u001b[0m\u001b[1;34m\"Please enter a number\"\u001b[0m\u001b[1;33m)\u001b[0m\u001b[1;33m)\u001b[0m\u001b[1;33m\u001b[0m\u001b[1;33m\u001b[0m\u001b[0m\n\u001b[0m\u001b[0;32m      2\u001b[0m \u001b[0mprint\u001b[0m \u001b[1;33m(\u001b[0m\u001b[0mnum\u001b[0m\u001b[1;33m)\u001b[0m\u001b[1;33m\u001b[0m\u001b[1;33m\u001b[0m\u001b[0m\n",
      "\u001b[1;31mValueError\u001b[0m: invalid literal for int() with base 10: 'ashish'"
     ]
    }
   ],
   "source": [
    "num = int(input(\"Please enter a number\")) # In this case, the value wont be printed as we entered a string\n",
    "print (num)                               # due to this, the program breaks. Hence we need to catch this error  "
   ]
  },
  {
   "cell_type": "code",
   "execution_count": 6,
   "metadata": {},
   "outputs": [
    {
     "name": "stdout",
     "output_type": "stream",
     "text": [
      "Please enter a numberashish\n",
      "Invalid Input\n"
     ]
    }
   ],
   "source": [
    "try:\n",
    "    num =  int(input(\"Please enter a number\"))\n",
    "    print(num)\n",
    "except:\n",
    "    print(\"Invalid Input\")"
   ]
  },
  {
   "cell_type": "code",
   "execution_count": 8,
   "metadata": {},
   "outputs": [
    {
     "name": "stdout",
     "output_type": "stream",
     "text": [
      "Please enter a number: 45\n",
      "45\n"
     ]
    }
   ],
   "source": [
    "try:\n",
    "    num =  int(input(\"Please enter a number: \"))\n",
    "    print(num)\n",
    "except:\n",
    "    print(\"Invalid Input\")"
   ]
  },
  {
   "cell_type": "code",
   "execution_count": 13,
   "metadata": {},
   "outputs": [
    {
     "name": "stdout",
     "output_type": "stream",
     "text": [
      "Please enter a number: hutch\n",
      "Invalid Input\n"
     ]
    }
   ],
   "source": [
    "# In python, the best practice is to mention the type of error you want to catch\n",
    "try:\n",
    "    num =  int(input(\"Please enter a number: \"))\n",
    "    print(num)\n",
    "except ValueError:\n",
    "    print(\"Invalid Input\")\n",
    "except ZeroDivisionError:\n",
    "    print(\"Cannot divide by zero\")"
   ]
  },
  {
   "cell_type": "code",
   "execution_count": null,
   "metadata": {},
   "outputs": [],
   "source": [
    "#READING FROM EXTERNAL FILES IN PYTHON"
   ]
  },
  {
   "cell_type": "code",
   "execution_count": null,
   "metadata": {},
   "outputs": [],
   "source": [
    "# If we want to read from an external file in python, we need to put the path of the file to open the file in python\n",
    "employee_file = open(\"File_path.txt\", \"r\") # In this case, the r inside open function specifies (read only) from external file\n",
    "                                           # \"w\" means write only, \"r+\" means read and write\n",
    "                                           # \"a\" means append. This means we cannot write information into the file, but just add more information from some other file to this file\n",
    "#If we open the file, it becomes necessary to close the file as well. \n",
    "employee_file.close()"
   ]
  },
  {
   "cell_type": "code",
   "execution_count": null,
   "metadata": {},
   "outputs": [],
   "source": [
    "employee_file = open(\"File_path.txt\", \"r\")\n",
    "#Between opening and closing the file, we can do a bunch of stuffs ie how to get information from the file\n",
    "print(employee_file.readable()) #To check if the file is readable or not. It returns a boolean value that is True or False\n",
    "print(employee_file.read()) #This line will give out all the information present in the external file\n",
    "print(employee_file.readline()) #This command is used to read an individual line from the file. This command will read the first line. If we repeat the command, the next consecutive line will be read.\n",
    "print(employee_file.readlines())# This command takes all the lines in the file, and puts them inside a list\n",
    "\n",
    "employee_file.close()"
   ]
  },
  {
   "cell_type": "code",
   "execution_count": null,
   "metadata": {},
   "outputs": [],
   "source": [
    "# WRITING AND APPENDING TO FILES IN PYTHON"
   ]
  },
  {
   "cell_type": "code",
   "execution_count": null,
   "metadata": {},
   "outputs": [],
   "source": [
    "#Appending means adding a text at the end of the file."
   ]
  },
  {
   "cell_type": "code",
   "execution_count": 15,
   "metadata": {},
   "outputs": [
    {
     "data": {
      "text/plain": [
       "27"
      ]
     },
     "execution_count": 15,
     "metadata": {},
     "output_type": "execute_result"
    }
   ],
   "source": [
    "employee_file = open(\"employee.txt\", \"w\")\n",
    "employee_file.write(\"Kelly - Customer Service\")\n",
    "employee_file.write(\"Mike - Human Resources\")\n",
    "employee_file.write(\"Eden - Admin\")\n",
    "employee_file.write(\"Sarah - Client Coordination\")"
   ]
  },
  {
   "cell_type": "code",
   "execution_count": null,
   "metadata": {},
   "outputs": [],
   "source": [
    "employee_file = open(\"employee.txt\", \"a\")\n",
    "employee_file.write(\"Jake - Logistics\") # This will append Jake's profile on the last line of the existing file. \n",
    "                                        # We need to be very careful while appending. This is because, if we run the code multiple times, the lines will keep on getting appended in the file repeatedly. This only true for appending and not for writing\n",
    "employee_file.write(\"\\n Shane - Operations\") #\\n will append the string of shane on a new line\n",
    "\n",
    "\n",
    "#Now instead of appending lines on an existing file, we can write a completely new file. Just change \"a\" to \"w\"\n",
    "employee_file = open(\"employee.txt\", \"w\")\n",
    "employee_file.write(\"Jake - Logistics\")\n",
    "# We can also create another file altogether. Just change the name of the file and it will be created\n",
    "employee_file = open(\"employeeNEW.txt\", \"a\")\n",
    "employee_file.write(\"Jake - Logistics\")\n",
    "#We can also create different types of file. For eg text, html, css. We just have to change the extention of the file\n",
    "employee_file = open(\"employee.html\", \"w\")\n",
    "employee_file.write(\"<p>This is HTML<\\p>\")"
   ]
  },
  {
   "cell_type": "code",
   "execution_count": null,
   "metadata": {},
   "outputs": [],
   "source": [
    "#CLASSES AND OBJECTS IN PYTHON"
   ]
  },
  {
   "cell_type": "code",
   "execution_count": null,
   "metadata": {},
   "outputs": [],
   "source": [
    "#Classes and objects helps you to make your python code/program more powerful and more organized\n",
    "#In python we deal with different types of data eg strings,numbers and booleans. But all the real life data cannot be converted into strings, boolean or number.\n",
    "#Hence we use classes and objects. Classes and objects helps us to create our own data type \n",
    "# Tuples, Lists and dictionaries are used to organize our data properly"
   ]
  },
  {
   "cell_type": "code",
   "execution_count": null,
   "metadata": {},
   "outputs": [],
   "source": []
  },
  {
   "cell_type": "code",
   "execution_count": null,
   "metadata": {},
   "outputs": [],
   "source": []
  },
  {
   "cell_type": "code",
   "execution_count": null,
   "metadata": {},
   "outputs": [],
   "source": []
  },
  {
   "cell_type": "code",
   "execution_count": null,
   "metadata": {},
   "outputs": [],
   "source": []
  }
 ],
 "metadata": {
  "kernelspec": {
   "display_name": "Python 3",
   "language": "python",
   "name": "python3"
  },
  "language_info": {
   "codemirror_mode": {
    "name": "ipython",
    "version": 3
   },
   "file_extension": ".py",
   "mimetype": "text/x-python",
   "name": "python",
   "nbconvert_exporter": "python",
   "pygments_lexer": "ipython3",
   "version": "3.7.3"
  }
 },
 "nbformat": 4,
 "nbformat_minor": 2
}
