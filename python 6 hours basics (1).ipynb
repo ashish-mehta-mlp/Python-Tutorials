{
 "cells": [
  {
   "cell_type": "code",
   "execution_count": 1,
   "metadata": {},
   "outputs": [
    {
     "name": "stdout",
     "output_type": "stream",
     "text": [
      "Ashish Mehta\n"
     ]
    }
   ],
   "source": [
    "print (\"Ashish Mehta\")"
   ]
  },
  {
   "cell_type": "code",
   "execution_count": 2,
   "metadata": {},
   "outputs": [
    {
     "name": "stdout",
     "output_type": "stream",
     "text": [
      "O----\n",
      " !!!!\n"
     ]
    }
   ],
   "source": [
    "print(\"O----\")\n",
    "print(\" !!!!\")"
   ]
  },
  {
   "cell_type": "code",
   "execution_count": null,
   "metadata": {},
   "outputs": [],
   "source": [
    "# In the above cell, an imaginary dog was made. \"A Python code is executed, line by line from the top\""
   ]
  },
  {
   "cell_type": "code",
   "execution_count": null,
   "metadata": {},
   "outputs": [],
   "source": [
    "# Anything inside \"\" or '' is a string. A string is a series of charecters"
   ]
  },
  {
   "cell_type": "code",
   "execution_count": 3,
   "metadata": {},
   "outputs": [
    {
     "name": "stdout",
     "output_type": "stream",
     "text": [
      "**********\n"
     ]
    }
   ],
   "source": [
    "print(\"*\"*10)"
   ]
  },
  {
   "cell_type": "code",
   "execution_count": null,
   "metadata": {},
   "outputs": [],
   "source": [
    "#Variables v = 10 is a variable "
   ]
  },
  {
   "cell_type": "code",
   "execution_count": null,
   "metadata": {},
   "outputs": [],
   "source": [
    "# any number without a decimal pt is an integer eg: 10,20"
   ]
  },
  {
   "cell_type": "code",
   "execution_count": null,
   "metadata": {},
   "outputs": [],
   "source": [
    "v = 10\n",
    "v = 20\n",
    "print(v)"
   ]
  },
  {
   "cell_type": "code",
   "execution_count": 9,
   "metadata": {},
   "outputs": [],
   "source": [
    "#types of data\n",
    "v = 20\n",
    "name = \"Ashish\"\n",
    "c = 4.9\n",
    "is_published = False"
   ]
  },
  {
   "cell_type": "code",
   "execution_count": null,
   "metadata": {},
   "outputs": [],
   "source": [
    "#Ex 1: Patient at a hospital"
   ]
  },
  {
   "cell_type": "code",
   "execution_count": 6,
   "metadata": {},
   "outputs": [
    {
     "name": "stdout",
     "output_type": "stream",
     "text": [
      "John Smith\n",
      "20\n",
      "True\n"
     ]
    }
   ],
   "source": [
    "name = \"John Smith\"\n",
    "age = 20\n",
    "is_new_patient = True\n",
    "print(name)\n",
    "print(age)\n",
    "print(is_new_patient)"
   ]
  },
  {
   "cell_type": "code",
   "execution_count": null,
   "metadata": {},
   "outputs": [],
   "source": [
    "#####*** How to take input from user"
   ]
  },
  {
   "cell_type": "code",
   "execution_count": null,
   "metadata": {},
   "outputs": [],
   "source": [
    "# Anything inside () is an expression. An expression is passed to a function used to run the code."
   ]
  },
  {
   "cell_type": "code",
   "execution_count": null,
   "metadata": {},
   "outputs": [],
   "source": [
    "name = input(\"What is Your name?  \")\n",
    "print(\"Good Morning \" + name)"
   ]
  },
  {
   "cell_type": "code",
   "execution_count": null,
   "metadata": {},
   "outputs": [],
   "source": [
    "name1 = input(\"What is your name? \")\n",
    "colour = input(\"Which is your favourite colour? \")\n",
    "print(name + \" likes \" + colour) # + sign is used to concatnate the strings in an expression"
   ]
  },
  {
   "cell_type": "code",
   "execution_count": null,
   "metadata": {},
   "outputs": [],
   "source": [
    "# Ex2 Calculate your age"
   ]
  },
  {
   "cell_type": "code",
   "execution_count": null,
   "metadata": {},
   "outputs": [],
   "source": [
    "birth = input(\"Please enter your Birth year: \")\n",
    "age = 2019 - birth\n",
    "print(\"Your age is \", age)"
   ]
  },
  {
   "cell_type": "code",
   "execution_count": null,
   "metadata": {},
   "outputs": [],
   "source": [
    "birth = input(\"Please enter your Birth year: \")\n",
    "age = 2019 - int(birth)\n",
    "print(\"Your age is \", age)"
   ]
  },
  {
   "cell_type": "code",
   "execution_count": null,
   "metadata": {},
   "outputs": [],
   "source": [
    "#Ex3: To Convert Pounds to Kg"
   ]
  },
  {
   "cell_type": "code",
   "execution_count": null,
   "metadata": {},
   "outputs": [],
   "source": [
    "wt = input(\"Enter your weight in pounds: \")\n",
    "int(wt)\n",
    "wt_in_kg = int(wt) * 0.45\n",
    "print(\"Your weight in kg is: \" ,wt_in_kg)"
   ]
  },
  {
   "cell_type": "code",
   "execution_count": null,
   "metadata": {},
   "outputs": [],
   "source": [
    "#Multiline string"
   ]
  },
  {
   "cell_type": "code",
   "execution_count": null,
   "metadata": {},
   "outputs": [],
   "source": [
    "course = \"\"\"Hi John\n",
    "\n",
    "I hope you are doing well. \n",
    "Thank you for taking the Python course.\n",
    "Regards,\n",
    "Support team\"\"\""
   ]
  },
  {
   "cell_type": "code",
   "execution_count": null,
   "metadata": {},
   "outputs": [],
   "source": [
    "print(course)"
   ]
  },
  {
   "cell_type": "code",
   "execution_count": null,
   "metadata": {},
   "outputs": [],
   "source": [
    "# index in a string"
   ]
  },
  {
   "cell_type": "code",
   "execution_count": null,
   "metadata": {},
   "outputs": [],
   "source": [
    "course = \"Python for Beginners\"\n",
    "print(course[0])"
   ]
  },
  {
   "cell_type": "code",
   "execution_count": null,
   "metadata": {},
   "outputs": [],
   "source": [
    "print(course[6])"
   ]
  },
  {
   "cell_type": "code",
   "execution_count": null,
   "metadata": {},
   "outputs": [],
   "source": [
    "print(course[7])"
   ]
  },
  {
   "cell_type": "code",
   "execution_count": null,
   "metadata": {},
   "outputs": [],
   "source": [
    "print(course[-1])"
   ]
  },
  {
   "cell_type": "code",
   "execution_count": null,
   "metadata": {},
   "outputs": [],
   "source": [
    "print(course[-9])"
   ]
  },
  {
   "cell_type": "code",
   "execution_count": null,
   "metadata": {},
   "outputs": [],
   "source": [
    "# select and print multiple charecters in a string"
   ]
  },
  {
   "cell_type": "code",
   "execution_count": null,
   "metadata": {},
   "outputs": [],
   "source": [
    "print(course[0:4])"
   ]
  },
  {
   "cell_type": "code",
   "execution_count": null,
   "metadata": {},
   "outputs": [],
   "source": [
    "print(course(0:len(course)-1))"
   ]
  },
  {
   "cell_type": "code",
   "execution_count": null,
   "metadata": {},
   "outputs": [],
   "source": [
    "len(course)"
   ]
  },
  {
   "cell_type": "code",
   "execution_count": null,
   "metadata": {},
   "outputs": [],
   "source": [
    "print(course[0:len(course)-1])"
   ]
  },
  {
   "cell_type": "code",
   "execution_count": null,
   "metadata": {},
   "outputs": [],
   "source": [
    "print(course[0:len(course)])"
   ]
  },
  {
   "cell_type": "code",
   "execution_count": null,
   "metadata": {},
   "outputs": [],
   "source": [
    "print(course[0:len(course):2])"
   ]
  },
  {
   "cell_type": "code",
   "execution_count": null,
   "metadata": {},
   "outputs": [],
   "source": [
    "course = \"Python for Beginners\"\n",
    "another = course[:]"
   ]
  },
  {
   "cell_type": "code",
   "execution_count": null,
   "metadata": {},
   "outputs": [],
   "source": [
    "print(another)"
   ]
  },
  {
   "cell_type": "code",
   "execution_count": null,
   "metadata": {},
   "outputs": [],
   "source": [
    "#Formatted Strings"
   ]
  },
  {
   "cell_type": "code",
   "execution_count": null,
   "metadata": {},
   "outputs": [],
   "source": [
    "# Formatted strings are used when you dynamically want to generate a string using variables"
   ]
  },
  {
   "cell_type": "code",
   "execution_count": null,
   "metadata": {},
   "outputs": [],
   "source": [
    "#the syntax of formatted string is f'{xyz} string' where {} creates a space to save a defined variable"
   ]
  },
  {
   "cell_type": "code",
   "execution_count": null,
   "metadata": {},
   "outputs": [],
   "source": [
    "first = input(\"Enter your first name: \")\n",
    "last = input(\"Enter your last name: \")\n",
    "message = f'{first} [{last}] is a coder'\n",
    "mes = f'{first} {last} is a genius'\n",
    "print (message)\n",
    "print (mes)"
   ]
  },
  {
   "cell_type": "code",
   "execution_count": null,
   "metadata": {},
   "outputs": [],
   "source": [
    "#difference between function and method\n",
    "# both functions and methods are functions eg: print, len, .append\n",
    "# if a function is general purpose eg: print, len then it is called a function\n",
    "# but is a function is applicable to one data type eg: .upper can be used for strings only. Then it is called a method"
   ]
  },
  {
   "cell_type": "code",
   "execution_count": null,
   "metadata": {},
   "outputs": [],
   "source": [
    "course = \"Python for Beginners\"\n",
    "print(len(course))\n",
    "print(course.upper())\n",
    "print(course.lower())\n",
    "print(course) # note that methods like .upper, .lower do not modify the string. They are only used to obtain the desired results"
   ]
  },
  {
   "cell_type": "code",
   "execution_count": null,
   "metadata": {},
   "outputs": [],
   "source": [
    "course = \"Python for Beginners\"\n",
    "print(course.find('P')) #.find is used to find an index of a charecter in a string\n",
    "print(course.find('p')) # Please note that .find is case sensitive. If P is capital in the given string and if we enter lower p\n",
    "                        # in find method, then it wont detect its index\n",
    "\n",
    "print(course.find('o')) # in the above string, there are 2 o. But .find provides the index of first o\n",
    "print(course.find('for')) # in this case, .find will give us the index from where for is starting\n"
   ]
  },
  {
   "cell_type": "code",
   "execution_count": null,
   "metadata": {},
   "outputs": [],
   "source": [
    "course = \"Python for Beginners\"\n",
    "print(course)\n",
    "print(course.replace(\"beginners\", \"Absolute Beginners\")) # .replace is case sensitive. Hence b in Beginners has to be capital\n",
    "print(course.replace(\"Beginners\", \"Absolute Beginners\")) # This is correct\n",
    "print(course.replace(\"P\",\"J\"))"
   ]
  },
  {
   "cell_type": "code",
   "execution_count": null,
   "metadata": {},
   "outputs": [],
   "source": [
    "course = \"Python for Beginners\"\n",
    "print ('Python' in course) # difference between in and .find is, in returns boolean value and .find returns index value\n",
    "print ('python' in course) #in operator is case sensitive. Hence returned false "
   ]
  },
  {
   "cell_type": "code",
   "execution_count": null,
   "metadata": {},
   "outputs": [],
   "source": [
    "course = \"python for beginners\"\n",
    "print(course.title()) #.title is used to capitalize the first letter of every word in a string"
   ]
  },
  {
   "cell_type": "code",
   "execution_count": null,
   "metadata": {},
   "outputs": [],
   "source": [
    "#Arithematic Operators in Python"
   ]
  },
  {
   "cell_type": "code",
   "execution_count": null,
   "metadata": {},
   "outputs": [],
   "source": [
    "a = 10\n",
    "b = 3\n",
    "\n",
    "print(a+b)\n",
    "print(a-b)\n",
    "print(a*b)\n",
    "print(a/b) # gives the answer in float\n",
    "print(a//b) # gives the answer in integer\n",
    "print(a**b) # gives the answer as remainder"
   ]
  },
  {
   "cell_type": "code",
   "execution_count": null,
   "metadata": {},
   "outputs": [],
   "source": [
    "# Augmented Assignment"
   ]
  },
  {
   "cell_type": "code",
   "execution_count": null,
   "metadata": {},
   "outputs": [],
   "source": [
    "x = 10\n",
    "# we have to increase the number by 3\n",
    "x = x + 3 #method1\n",
    "print(x)\n",
    "x += 3 #Augmented assignment\n",
    "print(x)\n",
    "\n",
    "y = 12\n",
    "y -= 2\n",
    "print(\"y =\" , y)\n",
    "\n",
    "z = 20\n",
    "z /= 2\n",
    "print(\"z = \",z)\n",
    "\n",
    "t = 25\n",
    "t *= 2\n",
    "print(\"t = \",t)"
   ]
  },
  {
   "cell_type": "code",
   "execution_count": null,
   "metadata": {},
   "outputs": [],
   "source": [
    "# Arithematic order precedance (BODMAS rule)"
   ]
  },
  {
   "cell_type": "code",
   "execution_count": null,
   "metadata": {},
   "outputs": [],
   "source": [
    "# Rule of BODMAS\n",
    "# Parenthesis ()\n",
    "# Exponential **\n",
    "# Multiplication or Division\n",
    "# addition or subraction\n",
    "x = 10+3**2\n",
    "print(x)\n",
    "a = (10 + 3) ** 2\n",
    "print(a)\n",
    "b = 10*3**2\n",
    "print(b)\n",
    "c = 10/2*5 # division first then multiplication\n",
    "print(c)\n",
    "d = 10-10+2\n",
    "print(d)"
   ]
  },
  {
   "cell_type": "code",
   "execution_count": null,
   "metadata": {},
   "outputs": [],
   "source": [
    "#Math Functions"
   ]
  },
  {
   "cell_type": "code",
   "execution_count": null,
   "metadata": {},
   "outputs": [],
   "source": [
    "x = 2.89\n",
    "round(x)\n",
    "print(x)\n",
    "print(round(x))"
   ]
  },
  {
   "cell_type": "code",
   "execution_count": null,
   "metadata": {},
   "outputs": [],
   "source": [
    "x = -2.89\n",
    "print(abs(x))"
   ]
  },
  {
   "cell_type": "code",
   "execution_count": null,
   "metadata": {},
   "outputs": [],
   "source": [
    "import math \n",
    "# a module in python is a seperate file with a set of reusable codes. \n",
    "#math module is imported in python to perform complex mathematical functions"
   ]
  },
  {
   "cell_type": "code",
   "execution_count": null,
   "metadata": {},
   "outputs": [],
   "source": [
    "x = 10\n",
    "print(math.sqrt(x))"
   ]
  },
  {
   "cell_type": "code",
   "execution_count": null,
   "metadata": {},
   "outputs": [],
   "source": [
    "# if statement"
   ]
  },
  {
   "cell_type": "code",
   "execution_count": null,
   "metadata": {},
   "outputs": [],
   "source": [
    "its_hot = False\n",
    "its_cold = True\n",
    "\n",
    "if its_hot:\n",
    "    print(\"Its a hot day\")\n",
    "    print(\"Drink plenty of Water\")\n",
    "elif its_cold:\n",
    "    print(\"Its a cold day\")\n",
    "    print(\"Wear warm clothes\")\n",
    "else:\n",
    "    print(\"Its a lovely day\")\n",
    "print(\"Have a good day\")"
   ]
  },
  {
   "cell_type": "code",
   "execution_count": null,
   "metadata": {},
   "outputs": [],
   "source": [
    "price = 1000000\n",
    "score_good = True\n",
    "\n",
    "if score_good:\n",
    "    dp = 0.1*1000000\n",
    "    print(\"Pay 10% of down payment\")\n",
    "    print(\"down payment is\", dp)\n",
    "else:\n",
    "    dp = 0.2*1000000\n",
    "    print(\"Pay 20% of down payment\")\n",
    "    print(\"Down payment is\", dp)"
   ]
  },
  {
   "cell_type": "code",
   "execution_count": null,
   "metadata": {},
   "outputs": [],
   "source": [
    "# Logical operators\n",
    "#AND\n",
    "#OR\n",
    "#NOT"
   ]
  },
  {
   "cell_type": "code",
   "execution_count": null,
   "metadata": {},
   "outputs": [],
   "source": [
    "#Statement: If a person has high income AND/OR good credit score, he is eligible for a loan."
   ]
  },
  {
   "cell_type": "code",
   "execution_count": null,
   "metadata": {},
   "outputs": [],
   "source": [
    "high_income = False\n",
    "good_score = True\n",
    "criminal = False\n",
    "\n",
    "if high_income and good_score:\n",
    "    print(\"Eligible for loan\")\n",
    "    \n",
    "if high_income or good_score:\n",
    "    print(\"Eligible for loan\")\n",
    "    \n",
    "if good_score and not criminal:\n",
    "    print(\"Eligible for loan\")\n",
    "    \n"
   ]
  },
  {
   "cell_type": "code",
   "execution_count": null,
   "metadata": {},
   "outputs": [],
   "source": [
    "# Comparison operator\n",
    "# > greater than\n",
    "# < less than\n",
    "# == equals (== to compare)\n",
    "# <=, >=, !=\n"
   ]
  },
  {
   "cell_type": "code",
   "execution_count": null,
   "metadata": {},
   "outputs": [],
   "source": [
    "temp = input(\"Please enter the temprature: \")\n",
    "print(\"Temprature:\", temp)\n",
    "\n",
    "if int(temp)>30:\n",
    "    print(\"Its a hot day\")\n",
    "elif int(temp)<10:\n",
    "    print(\"Its a cold day\")\n",
    "else:\n",
    "    print(\"Its a lovely day\")"
   ]
  },
  {
   "cell_type": "code",
   "execution_count": null,
   "metadata": {},
   "outputs": [],
   "source": [
    "# To calculate number of charecters in a name"
   ]
  },
  {
   "cell_type": "code",
   "execution_count": null,
   "metadata": {},
   "outputs": [],
   "source": [
    "name = input(\"Please enter your name:\")\n",
    "print (\"Welcome: \", name)\n",
    "\n",
    "if len(name)<3:\n",
    "    print (\"Name cannot be less than 3 charecters\")\n",
    "elif len(name)>50:\n",
    "    print(\"Name cannot be more than 50 charecters\")\n",
    "else:\n",
    "    print(\"Your name looks good\")"
   ]
  },
  {
   "cell_type": "code",
   "execution_count": null,
   "metadata": {},
   "outputs": [],
   "source": [
    "name = input(\"Please enter your name:\")\n",
    "print (\"Welcome: \", name)\n",
    "\n",
    "if len(name)<3:\n",
    "    print (\"Name cannot be less than 3 charecters\")\n",
    "elif len(name)>50:\n",
    "    print(\"Name cannot be more than 50 charecters\")\n",
    "else:\n",
    "    print(\"Your name looks good\")"
   ]
  },
  {
   "cell_type": "code",
   "execution_count": null,
   "metadata": {},
   "outputs": [],
   "source": [
    "# Ex: Pounds or Kg converter"
   ]
  },
  {
   "cell_type": "code",
   "execution_count": null,
   "metadata": {},
   "outputs": [],
   "source": [
    "wt = input(\"Please enter your weight: \")\n",
    "unit = input(\"Lbs(l) or kg(k): \")\n",
    "if unit == 'l' or unit == 'L':\n",
    "    new_wt = 0.4535 * int(wt)\n",
    "    print(\"Your weight in kg:\", new_wt)\n",
    "elif unit == k or unit == K:\n",
    "    new_wt = 2.20 * int(wt)\n",
    "    print(\"Your weight in lbs: \", new_wt)\n",
    "else:\n",
    "    print(\"Please enter the correct category\")\n",
    "    "
   ]
  },
  {
   "cell_type": "code",
   "execution_count": null,
   "metadata": {},
   "outputs": [],
   "source": [
    "# while loops\n",
    "# We use while loops to run a set of code multiple number of times"
   ]
  },
  {
   "cell_type": "code",
   "execution_count": null,
   "metadata": {},
   "outputs": [],
   "source": [
    "i=1 #define a variable\n",
    "while i<=5: # while condition is true\n",
    "    print(i)\n",
    "    i +=1\n",
    "print(\"Done\")\n"
   ]
  },
  {
   "cell_type": "code",
   "execution_count": null,
   "metadata": {},
   "outputs": [],
   "source": [
    "i=1 #define a variable\n",
    "while i<=5: # while condition is true\n",
    "    print(\" * \" * i)\n",
    "    i +=1\n",
    "print(\"Done\")"
   ]
  },
  {
   "cell_type": "code",
   "execution_count": null,
   "metadata": {},
   "outputs": [],
   "source": [
    "# **** A while loop also has an else part."
   ]
  },
  {
   "cell_type": "code",
   "execution_count": null,
   "metadata": {},
   "outputs": [],
   "source": [
    "# Ex: The number guessing game"
   ]
  },
  {
   "cell_type": "code",
   "execution_count": null,
   "metadata": {},
   "outputs": [],
   "source": [
    "Secret_number = 9\n",
    "Guess_count = 0\n",
    "Guess_limit = 3\n",
    "while Guess_count < Guess_limit:\n",
    "    guess = int(input(\"Enter your guess: \"))\n",
    "    Guess_count += 1\n",
    "    if guess == Secret_number:\n",
    "        print(\"You Won!!\")\n",
    "        break\n",
    "else:\n",
    "    print(\"You lost!!\")"
   ]
  },
  {
   "cell_type": "code",
   "execution_count": null,
   "metadata": {},
   "outputs": [],
   "source": [
    "main = input()\n",
    "if main.lower() == \"help\":\n",
    "    print(\"\"\"\n",
    "Start - To Start The Car\n",
    "Stop - To Stop The Car\n",
    "Quit - To Exit\"\"\")\n",
    "else: \n",
    "    print(\"Please enter the valid input\")\n",
    "sub_main = (input())\n",
    "started = False\n",
    "if sub_main.lower() == \"start\":\n",
    "        if started == True:\n",
    "            print (\"Car has already started you dumbo!!\")\n",
    "        else:\n",
    "            print(\"Car started... Ready to go!!\")\n",
    "elif sub_main.lower() == \"stop\":\n",
    "        if started == False:\n",
    "            print(\"Car has already stopped !!\")\n",
    "        else:\n",
    "            print (\"Car has stopped\")\n",
    "elif sub_main.lower() == \"quit\":\n",
    "        print (\"Bye Bye!!\")\n",
    "        \n"
   ]
  },
  {
   "cell_type": "code",
   "execution_count": null,
   "metadata": {},
   "outputs": [],
   "source": [
    "main = input(\">\").lower()\n",
    "while True:\n",
    "    if main == \"start\":\n",
    "        print(\"The car has started.. Vrooommm!!\")\n",
    "    elif main == \"Stop\":\n",
    "        print(\"The car has stopped!\")\n",
    "    elif main == \"quit\":\n",
    "        print(\"Bye Bye..!!\")\n",
    "    "
   ]
  },
  {
   "cell_type": "code",
   "execution_count": null,
   "metadata": {},
   "outputs": [],
   "source": [
    "#for loop"
   ]
  },
  {
   "cell_type": "code",
   "execution_count": null,
   "metadata": {},
   "outputs": [],
   "source": [
    "cart = [10,20,30]\n",
    "total = 0\n",
    "for x in cart:\n",
    "    total = total + x\n",
    "print(f\"total: ${total}\")"
   ]
  },
  {
   "cell_type": "code",
   "execution_count": null,
   "metadata": {},
   "outputs": [],
   "source": [
    "#Nested for loop: (For loop inside for loop)"
   ]
  },
  {
   "cell_type": "code",
   "execution_count": null,
   "metadata": {},
   "outputs": [],
   "source": [
    "for x in range(4):\n",
    "    for y in range(4):\n",
    "        print(f\"({x},{y})\")"
   ]
  },
  {
   "cell_type": "code",
   "execution_count": null,
   "metadata": {},
   "outputs": [],
   "source": [
    "# Challenge: Print F of \"*\" using nested For loop"
   ]
  },
  {
   "cell_type": "code",
   "execution_count": null,
   "metadata": {},
   "outputs": [],
   "source": [
    "numbers = [1,1,1,1,6]\n",
    "for x in numbers:\n",
    "    print(\"*\"*x)"
   ]
  },
  {
   "cell_type": "code",
   "execution_count": null,
   "metadata": {},
   "outputs": [],
   "source": [
    "numbers = [5,2,5,2,2]\n",
    "for x in numbers:\n",
    "    print(\"*\"*x)"
   ]
  },
  {
   "cell_type": "code",
   "execution_count": null,
   "metadata": {},
   "outputs": [],
   "source": [
    "#Lists in python"
   ]
  },
  {
   "cell_type": "code",
   "execution_count": null,
   "metadata": {},
   "outputs": [],
   "source": [
    "names = [\"Ashish\", \"Vibhuti\", \"Sravan\", \"Raina\", \"Pratik\"]\n",
    "print(names)\n",
    "print(names[0])\n",
    "print(names[-1])\n",
    "print(names[-2])\n",
    "print(names[1:3]) # whenever we use [] to select a range, we do not modify the list. The list remains the same"
   ]
  },
  {
   "cell_type": "code",
   "execution_count": null,
   "metadata": {},
   "outputs": [],
   "source": [
    "names = [\"Ashish\", \"Vibhuti\", \"Sravan\", \"Raina\", \"Pratik\"]\n",
    "names[1] = \"Mishra\""
   ]
  },
  {
   "cell_type": "code",
   "execution_count": null,
   "metadata": {},
   "outputs": [],
   "source": [
    "print(names)"
   ]
  },
  {
   "cell_type": "code",
   "execution_count": null,
   "metadata": {},
   "outputs": [],
   "source": [
    "x = int (input(\"please enter 5 numbers \"))\n",
    "print(list(x))"
   ]
  },
  {
   "cell_type": "code",
   "execution_count": null,
   "metadata": {},
   "outputs": [],
   "source": [
    "# print a list of integers from user\n",
    "lst = []\n",
    "x = int(input(\"Please enter the number of elements:\"))\n",
    "for i in range(0,x):\n",
    "    element = int(input())\n",
    "    lst.append(element)\n",
    "print(lst)\n",
    "\n",
    "max = lst[0]\n",
    "for num in lst:\n",
    "    if num > max:\n",
    "        max = num\n",
    "print(f\"The max number is: {max}\")"
   ]
  },
  {
   "cell_type": "code",
   "execution_count": null,
   "metadata": {},
   "outputs": [],
   "source": [
    "# 2d list: A 2d list is a matrix where each item in a list is a new list by itself"
   ]
  },
  {
   "cell_type": "code",
   "execution_count": null,
   "metadata": {},
   "outputs": [],
   "source": [
    "matrix = [\n",
    "    [1, 2, 3],\n",
    "    [4, 5, 6],\n",
    "    [7, 8, 9]\n",
    "]\n",
    "print (matrix)\n",
    "print(matrix[0][1])\n",
    "\n",
    "for x in matrix:\n",
    "    for y in x:\n",
    "        print (y)"
   ]
  },
  {
   "cell_type": "code",
   "execution_count": null,
   "metadata": {},
   "outputs": [],
   "source": [
    "# Password please\n",
    "x  = int(input(\"Please enter a numerical password: \"))\n",
    "print(\"Your password has been saved\")\n",
    "y = int(input(\"Please re-enter your password to continue: \"))\n",
    "if x == y:\n",
    "    print(\"Welcome!!\")\n",
    "else:\n",
    "    print(\"You have entered the wrong password\")"
   ]
  },
  {
   "cell_type": "code",
   "execution_count": null,
   "metadata": {},
   "outputs": [],
   "source": [
    "#List Methods\n",
    "numbers = [5,6,7,8,9,10]\n",
    "numbers.append(20) # to add a new value in the end of a list\n",
    "print(numbers)\n",
    "numbers.insert(2,22) #to add a new value anywhere in the list\n",
    "print(numbers)\n",
    "numbers.remove(6)# to remove an item from the list\n",
    "print(numbers)\n",
    "numbers.clear()# To clear all the items from the list\n",
    "print(numbers)\n",
    "numbers = [10,9,8,7,6,10,2,10]\n",
    "print(numbers)\n",
    "numbers.pop()# To remove last item from the list\n",
    "print(numbers)\n",
    "numbers.count(10)#To count the number of times an item has occured\n",
    "print(numbers.count(10))\n",
    "numbers.sort()#To sort a list in ascending order\n",
    "print(numbers)\n",
    "numbers.reverse()# To reverse the item orientation in a list\n",
    "print(numbers)\n",
    "numbers2 = numbers.copy()#to make a copy of our list. \n",
    "print(numbers2)\n",
    "numbers.insert(1,1)\n",
    "print(numbers)#Any changes made in the original list will not affect the copied list\n",
    "print(numbers2)"
   ]
  },
  {
   "cell_type": "markdown",
   "metadata": {},
   "source": [
    "To Check if a Number is present in a list or not"
   ]
  },
  {
   "cell_type": "code",
   "execution_count": null,
   "metadata": {},
   "outputs": [],
   "source": [
    "#Method 1\n",
    "numbers = [23,33,4,56,78]\n",
    "numbers.index(33)\n",
    "print(numbers.index(33))"
   ]
  },
  {
   "cell_type": "code",
   "execution_count": null,
   "metadata": {},
   "outputs": [],
   "source": [
    "#Method 2\n",
    "numbers = [23,33,4,56,78]\n",
    "print(23 in numbers)"
   ]
  },
  {
   "cell_type": "code",
   "execution_count": null,
   "metadata": {},
   "outputs": [],
   "source": [
    "# To remove a duplicate from a list"
   ]
  },
  {
   "cell_type": "code",
   "execution_count": null,
   "metadata": {},
   "outputs": [],
   "source": [
    "number = [1,2,2,3,4,5,5,5,6,7,7]\n",
    "uniques = []\n",
    "for i in number:\n",
    "    if i not in uniques:\n",
    "        uniques.append(i)\n",
    "print(uniques)"
   ]
  },
  {
   "cell_type": "code",
   "execution_count": null,
   "metadata": {},
   "outputs": [],
   "source": [
    "#Tupils: Tupils are a data type similar to list. The main difference between a tupil and a list is that, tupils are immutable ie, \n",
    "# values inside a tupil cannot be modified"
   ]
  },
  {
   "cell_type": "code",
   "execution_count": null,
   "metadata": {},
   "outputs": [],
   "source": [
    "number = (1,2,3,4,5) #tuple are denoted by ()\n",
    "print(number)\n",
    "number.count(3)\n",
    "number.index(5)"
   ]
  },
  {
   "cell_type": "code",
   "execution_count": null,
   "metadata": {},
   "outputs": [],
   "source": [
    "#Unpacking: Assigning a value inside a list or tuple to a variable"
   ]
  },
  {
   "cell_type": "code",
   "execution_count": null,
   "metadata": {},
   "outputs": [],
   "source": [
    "a = [2,3,4,6]\n",
    "#Method 1\n",
    "x=a[0]\n",
    "y=a[1]\n",
    "z=a[2]\n",
    "b=a[3]\n",
    "print(b)"
   ]
  },
  {
   "cell_type": "code",
   "execution_count": null,
   "metadata": {},
   "outputs": [],
   "source": [
    "#Method 2: Unpacking\n",
    "a = [2,3,4,6]\n",
    "p,q,s,t = a # if number of values inside a tuple or a list is 4 then the variables assigned also need to be 4\n",
    "print(p)"
   ]
  },
  {
   "cell_type": "code",
   "execution_count": null,
   "metadata": {},
   "outputs": [],
   "source": [
    "#Dictionary in python: It is a key value pair of dataset. Each key in a dictionary has to be unique.\n",
    "# If we use get method in dictionary, the prog will return none instead of showing any error."
   ]
  },
  {
   "cell_type": "code",
   "execution_count": null,
   "metadata": {},
   "outputs": [],
   "source": [
    "dic = {\"name\": \"Ashish\", \"age\": 24, \"phone no\":9819902474}\n",
    "print(dic[\"name\"])\n",
    "dic[\"name\"] = \"Ashwini\"\n",
    "print(dic[\"name\"])\n",
    "dic[\"email\"] = \"john@gmail.com\"\n",
    "print(dic)"
   ]
  },
  {
   "cell_type": "code",
   "execution_count": null,
   "metadata": {},
   "outputs": [],
   "source": [
    "# Convert the phone number from digits to words\""
   ]
  },
  {
   "cell_type": "code",
   "execution_count": null,
   "metadata": {},
   "outputs": [],
   "source": [
    "x = int(input())\n",
    "for i in x:\n",
    "    if i == 1:\n",
    "        print(\"One\")\n",
    "    if i == 2:\n",
    "        print(\"two\")\n",
    "    if i == 3:\n",
    "        print(\"three\")\n",
    "    if i == 4:\n",
    "        print(\"four\")\n",
    "    if i == 5:\n",
    "        print(\"five\")\n",
    "    if i == 6:\n",
    "        print(\"six\")\n",
    "    if i == 7:\n",
    "        print(\"seven\")\n",
    "    if i == 8:\n",
    "        print(\"eight\")\n",
    "    if i == 9:\n",
    "        print(\"nine\")\n",
    "    if i == 0:\n",
    "        print(\"Zero\")\n",
    "print(i)"
   ]
  },
  {
   "cell_type": "code",
   "execution_count": null,
   "metadata": {},
   "outputs": [],
   "source": [
    "x = input(\"Phone:\")\n",
    "dic = {\"1\":\"One\", \"2\":\"Two\", \"3\":\"Three\", \"4\":\"Four\", \"5\":\"Five\", \"6\": \"Six\", \"7\":\"Seven\", \"8\": \"Eight\", \"9\":\"Nine\", \"0\":\"Zero\"}\n",
    "output = \"\"\n",
    "for y in x:\n",
    "    output = output + dic.get(y,\"!\") + \" \"\n",
    "print(output)"
   ]
  },
  {
   "cell_type": "code",
   "execution_count": null,
   "metadata": {},
   "outputs": [],
   "source": [
    "#Emoji converter"
   ]
  },
  {
   "cell_type": "code",
   "execution_count": null,
   "metadata": {},
   "outputs": [],
   "source": [
    "message = input(\"\")\n",
    "words = message.split() #.split method splits the sentence and converts it into a list \n",
    "print(words)"
   ]
  },
  {
   "cell_type": "code",
   "execution_count": null,
   "metadata": {},
   "outputs": [],
   "source": [
    "message = input(\"\")\n",
    "words = message.split() #.split method splits the sentence and converts it into a list \n",
    "print(words)\n",
    "ch = {\":(\" : \"Ummm\" , \":)\": \"Haaa\"}\n",
    "output = \"\"\n",
    "for word in words:\n",
    "    output = output + ch.get(word, word) + \" \" #Value associated with the key will appear\n",
    "print(output)"
   ]
  },
  {
   "cell_type": "code",
   "execution_count": null,
   "metadata": {},
   "outputs": [],
   "source": [
    "# Functions: Functions is a container of few lines of code to perform a specific task\n",
    "#If we add : after any line, this means we are going to write a block of code which belongs to that line. \n",
    "# We always have to define our function first and then only we can call them."
   ]
  },
  {
   "cell_type": "code",
   "execution_count": null,
   "metadata": {},
   "outputs": [],
   "source": [
    "def greet_users():\n",
    "    print(\"Hello !!\")\n",
    "    print(\"Have a great day.\")\n",
    "    \n",
    "\n",
    "print(\"Start\")\n",
    "greet_users()\n",
    "print(\"Finish\")"
   ]
  },
  {
   "cell_type": "code",
   "execution_count": 1,
   "metadata": {},
   "outputs": [],
   "source": [
    "# Parameters: How to pass information to your function using parameters"
   ]
  },
  {
   "cell_type": "code",
   "execution_count": 2,
   "metadata": {},
   "outputs": [],
   "source": [
    "#difference between parameters and arguments\n",
    "#parameters are place holders of a piece of information\n",
    "#arguments are the actual information that goes inside the parameters"
   ]
  },
  {
   "cell_type": "code",
   "execution_count": 6,
   "metadata": {},
   "outputs": [
    {
     "name": "stdout",
     "output_type": "stream",
     "text": [
      "Start\n",
      "Hello John\n",
      "Welcome aboard\n",
      "finish\n"
     ]
    }
   ],
   "source": [
    "def greet_users(name):\n",
    "    print(f\"Hello {name}\")\n",
    "    print(\"Welcome aboard\")\n",
    "\n",
    "print(\"Start\")\n",
    "greet_users(\"John\") #If we have passed a parameter in a function, we have to pass an argument when we call the function\n",
    "print(\"finish\")"
   ]
  },
  {
   "cell_type": "code",
   "execution_count": 5,
   "metadata": {},
   "outputs": [
    {
     "name": "stdout",
     "output_type": "stream",
     "text": [
      "Start\n",
      "Hello John Smith\n",
      "Welcome aboard\n",
      "finish\n"
     ]
    }
   ],
   "source": [
    "def greet_users(first_name, last_name):\n",
    "    print(f\"Hello {first_name} {last_name}\")\n",
    "    print(\"Welcome aboard\")\n",
    "\n",
    "print(\"Start\")\n",
    "greet_users(\"John\", \"Smith\")\n",
    "print(\"finish\")"
   ]
  },
  {
   "cell_type": "code",
   "execution_count": 7,
   "metadata": {},
   "outputs": [],
   "source": [
    "# Types of arguments\n",
    "#There are 2 types of arguments\n",
    "#positional arguments: Where the position of the argument passed matters\n",
    "#keyword argument: Where the position of the argument passed does not matter. \n",
    "#In the above code, John and Smith are positional arguments. Where John needs to be typed before Smith for John to be taken as the first name"
   ]
  },
  {
   "cell_type": "code",
   "execution_count": 10,
   "metadata": {},
   "outputs": [
    {
     "name": "stdout",
     "output_type": "stream",
     "text": [
      "Start\n",
      "Hello John Smith\n",
      "Welcome aboard\n",
      "finish\n"
     ]
    }
   ],
   "source": [
    "# example of keyword argument\n",
    "def greet_users(first_name, last_name):\n",
    "    print(f\"Hello {first_name} {last_name}\")\n",
    "    print(\"Welcome aboard\")\n",
    "\n",
    "print(\"Start\")\n",
    "greet_users(last_name=\"Smith\", first_name=\"John\") # Here position of arguments does not matter as parameter is associated with the argument\n",
    "print(\"finish\")\n",
    "\n",
    "#positional arguments are used most of the times. Keyword arguments are used when we have to deal with numbers as input and\n",
    "#to make our code more clear to others"
   ]
  },
  {
   "cell_type": "code",
   "execution_count": 13,
   "metadata": {},
   "outputs": [
    {
     "name": "stdout",
     "output_type": "stream",
     "text": [
      "5\n",
      "25\n"
     ]
    }
   ],
   "source": [
    "#Return Statement\n",
    "#A return statement is like input statement which returns a user defined value.\n",
    "#it is a used in functions which involves large calculations\n",
    "\n",
    "value = int(input())\n",
    "def square(number):\n",
    "    return number * number\n",
    "result = square(value)\n",
    "print(result)\n",
    "\n",
    "# By default all the functions in python return none. So if we remove return from the function, it will return none"
   ]
  },
  {
   "cell_type": "code",
   "execution_count": 19,
   "metadata": {},
   "outputs": [
    {
     "name": "stdout",
     "output_type": "stream",
     "text": [
      ">:)\n",
      "Haaa \n"
     ]
    }
   ],
   "source": [
    "#Creating a reusable function\n",
    "def emoji_creator(message):\n",
    "    words = message.split()  \n",
    "    ch = {\":(\" : \"Ummm\" , \":)\": \"Haaa\"}\n",
    "    output = \"\"\n",
    "    for word in words:\n",
    "        output = output + ch.get(word, word) + \" \" \n",
    "        return output\n",
    "\n",
    "message = input(\">\")\n",
    "emoji_creator(message)\n",
    "print(emoji_creator(message))"
   ]
  },
  {
   "cell_type": "code",
   "execution_count": 1,
   "metadata": {},
   "outputs": [],
   "source": [
    "#Exceptions (Try Except)"
   ]
  },
  {
   "cell_type": "code",
   "execution_count": 2,
   "metadata": {},
   "outputs": [
    {
     "name": "stdout",
     "output_type": "stream",
     "text": [
      "Enter your age:34\n",
      "34\n"
     ]
    }
   ],
   "source": [
    "age = int(input(\"Enter your age:\"))\n",
    "print(age)"
   ]
  },
  {
   "cell_type": "code",
   "execution_count": 3,
   "metadata": {},
   "outputs": [
    {
     "name": "stdout",
     "output_type": "stream",
     "text": [
      "Enter your age:ashish\n"
     ]
    },
    {
     "ename": "ValueError",
     "evalue": "invalid literal for int() with base 10: 'ashish'",
     "output_type": "error",
     "traceback": [
      "\u001b[1;31m---------------------------------------------------------------------------\u001b[0m",
      "\u001b[1;31mValueError\u001b[0m                                Traceback (most recent call last)",
      "\u001b[1;32m<ipython-input-3-143e713a121a>\u001b[0m in \u001b[0;36m<module>\u001b[1;34m\u001b[0m\n\u001b[1;32m----> 1\u001b[1;33m \u001b[0mage\u001b[0m \u001b[1;33m=\u001b[0m \u001b[0mint\u001b[0m\u001b[1;33m(\u001b[0m\u001b[0minput\u001b[0m\u001b[1;33m(\u001b[0m\u001b[1;34m\"Enter your age:\"\u001b[0m\u001b[1;33m)\u001b[0m\u001b[1;33m)\u001b[0m\u001b[1;33m\u001b[0m\u001b[1;33m\u001b[0m\u001b[0m\n\u001b[0m\u001b[0;32m      2\u001b[0m \u001b[0mprint\u001b[0m\u001b[1;33m(\u001b[0m\u001b[0mage\u001b[0m\u001b[1;33m)\u001b[0m\u001b[1;33m\u001b[0m\u001b[1;33m\u001b[0m\u001b[0m\n",
      "\u001b[1;31mValueError\u001b[0m: invalid literal for int() with base 10: 'ashish'"
     ]
    }
   ],
   "source": [
    "age = int(input(\"Enter your age:\"))\n",
    "print(age)"
   ]
  },
  {
   "cell_type": "code",
   "execution_count": 4,
   "metadata": {},
   "outputs": [],
   "source": [
    "#We have to anticipate the errors that can occur in our program if the user enters wrong values and then use exception to run\n",
    "#the program successfully"
   ]
  },
  {
   "cell_type": "code",
   "execution_count": 6,
   "metadata": {},
   "outputs": [
    {
     "name": "stdout",
     "output_type": "stream",
     "text": [
      "Enter your age:32\n",
      "32\n"
     ]
    }
   ],
   "source": [
    "try:\n",
    "    age = int(input(\"Enter your age:\"))\n",
    "    print(age)\n",
    "except ValueError:\n",
    "    print(\"Invalid data entered\")"
   ]
  },
  {
   "cell_type": "code",
   "execution_count": 9,
   "metadata": {},
   "outputs": [
    {
     "name": "stdout",
     "output_type": "stream",
     "text": [
      "Enter your age:0\n",
      "0\n",
      "Age cannot be Zero\n"
     ]
    }
   ],
   "source": [
    "# different exceptions need to be used for different types of errors\n",
    "try:\n",
    "    age = int(input(\"Enter your age:\"))\n",
    "    print(age)\n",
    "    income = 20000\n",
    "    risk = income/age\n",
    "    print(risk)\n",
    "except ZeroDivisionError:\n",
    "    print(\"Age cannot be Zero\")\n",
    "except ValueError:\n",
    "    print(\"Invalid data entered\")"
   ]
  },
  {
   "cell_type": "code",
   "execution_count": 10,
   "metadata": {},
   "outputs": [],
   "source": [
    "#Classes are used to define new data types to model new concepts. \n",
    "# An object is an instance of a class. The class is a blueprint of how to create an object"
   ]
  },
  {
   "cell_type": "code",
   "execution_count": 16,
   "metadata": {},
   "outputs": [
    {
     "name": "stdout",
     "output_type": "stream",
     "text": [
      "Move\n",
      "Draw\n"
     ]
    }
   ],
   "source": [
    "class Point:\n",
    "    def move(self): #if we define a class, we need to enter self as argument for a method defined in the class else it gives TypeError\n",
    "        print (\"Move\")\n",
    "    def draw(self):\n",
    "        print (\"Draw\")\n",
    "        \n",
    "point1 = Point()\n",
    "p\n",
    "point1.move()\n",
    "\n",
    "point2 = Point()\n",
    "point2.draw()"
   ]
  },
  {
   "cell_type": "code",
   "execution_count": 1,
   "metadata": {},
   "outputs": [],
   "source": [
    "# Constructors"
   ]
  },
  {
   "cell_type": "code",
   "execution_count": 3,
   "metadata": {},
   "outputs": [
    {
     "name": "stdout",
     "output_type": "stream",
     "text": [
      "10\n",
      "12\n"
     ]
    }
   ],
   "source": [
    "class Point:\n",
    "    def __init__(self,x,y):\n",
    "        self.x = x\n",
    "        self.y = y\n",
    "    def move(self): \n",
    "        print (\"Move\")\n",
    "    def draw(self):\n",
    "        print (\"Draw\")\n",
    "        \n",
    "\n",
    "point1 = Point(10,20)\n",
    "print(point1.x)\n",
    "\n",
    "#We can also change the value of instance after initializing it while creating an object\n",
    "point1 = Point(10,20)\n",
    "point1.x = 12\n",
    "print(point1.x)"
   ]
  },
  {
   "cell_type": "code",
   "execution_count": 6,
   "metadata": {},
   "outputs": [
    {
     "name": "stdout",
     "output_type": "stream",
     "text": [
      "Hi, I am john Smith\n"
     ]
    }
   ],
   "source": [
    "#Exercise on constructors\n",
    "class Person:\n",
    "    def __init__(self, name):\n",
    "        self.name = name\n",
    "    def talk(self):\n",
    "        print (f\"Hi, I am {self.name}\")\n",
    "    \n",
    "john = Person(\"john Smith\")\n",
    "john.talk()"
   ]
  },
  {
   "cell_type": "code",
   "execution_count": 7,
   "metadata": {},
   "outputs": [],
   "source": [
    "#Inheritance in Python\n",
    "#Inheritance is the method of reusing code\n",
    "# We can use code from one class directly in the other class without having to repeat the code."
   ]
  },
  {
   "cell_type": "code",
   "execution_count": 14,
   "metadata": {},
   "outputs": [
    {
     "name": "stdout",
     "output_type": "stream",
     "text": [
      "walk\n",
      "Bhow Bhow\n",
      "walk\n"
     ]
    }
   ],
   "source": [
    "class Mammal:\n",
    "    def walk(self):\n",
    "        print(\"walk\")\n",
    "    \n",
    "class Dog(Mammal):\n",
    "    def bark(self):\n",
    "        print(\"Bhow Bhow\")\n",
    "\n",
    "class Cat(Mammal):\n",
    "    pass # pass is used to show there is nothing more inside the class other than the code from inherited class\n",
    "    \n",
    "    \n",
    "dog1 = Dog()\n",
    "dog1.walk()\n",
    "dog1.bark()\n",
    "\n",
    "cat1 = Cat()\n",
    "cat1.walk()"
   ]
  },
  {
   "cell_type": "code",
   "execution_count": 1,
   "metadata": {},
   "outputs": [],
   "source": [
    "#Modules.\n",
    "#Modules are nothing but dividing your code is seperate modules and saving it in different files.\n",
    "#This helps in organizing the codes better. \n",
    "#We can import the code from different files and use it as per our convenience."
   ]
  },
  {
   "cell_type": "code",
   "execution_count": 3,
   "metadata": {},
   "outputs": [],
   "source": [
    "#Packages in Python\n",
    "#Packages are another way to organize our code in Python.\n",
    "#Modules are like files and Packages are like folders to store the modules"
   ]
  },
  {
   "cell_type": "code",
   "execution_count": 4,
   "metadata": {},
   "outputs": [],
   "source": [
    "#Generating Random values in Python (Standard libraries in python)"
   ]
  },
  {
   "cell_type": "code",
   "execution_count": 6,
   "metadata": {},
   "outputs": [
    {
     "name": "stdout",
     "output_type": "stream",
     "text": [
      "0.34908354458385715\n",
      "0.18385376540343346\n",
      "0.33361171873923623\n",
      "0.6627388659386283\n",
      "0.5700509374317396\n",
      "0.7760132121129735\n",
      "0.13121057218472532\n",
      "0.7174251195271139\n",
      "0.5443392519581612\n"
     ]
    }
   ],
   "source": [
    "import random\n",
    "\n",
    "for i in range (1,10):\n",
    "    print(random.random()) #random.random prints random nos between 0 and 1"
   ]
  },
  {
   "cell_type": "code",
   "execution_count": 8,
   "metadata": {},
   "outputs": [
    {
     "name": "stdout",
     "output_type": "stream",
     "text": [
      "5\n",
      "2\n",
      "4\n",
      "4\n",
      "6\n",
      "2\n",
      "6\n",
      "2\n",
      "10\n",
      "7\n"
     ]
    }
   ],
   "source": [
    "import random\n",
    "\n",
    "for i in range (0,10):\n",
    "    print(random.randint(1,10))"
   ]
  },
  {
   "cell_type": "code",
   "execution_count": 12,
   "metadata": {},
   "outputs": [
    {
     "name": "stdout",
     "output_type": "stream",
     "text": [
      "Shawn\n"
     ]
    }
   ],
   "source": [
    "#To pick a random leader from a list\n",
    "import random\n",
    "\n",
    "members = [\"Don\", \"Shawn\", \"John\", \"Mary\", \"Carol\"]\n",
    "leader = random.choice(members)\n",
    "print(leader)"
   ]
  },
  {
   "cell_type": "code",
   "execution_count": 16,
   "metadata": {},
   "outputs": [
    {
     "data": {
      "text/plain": [
       "(3, 4)"
      ]
     },
     "execution_count": 16,
     "metadata": {},
     "output_type": "execute_result"
    }
   ],
   "source": [
    "#Random numbers from rolling a dice\n",
    "import random\n",
    "\n",
    "class Dice:\n",
    "    def roll(self):\n",
    "        first = random.randint(1,6)\n",
    "        second = random.randint(1,6)\n",
    "        return first, second\n",
    "    \n",
    "casino = Dice()\n",
    "casino.roll()\n"
   ]
  },
  {
   "cell_type": "code",
   "execution_count": 17,
   "metadata": {},
   "outputs": [],
   "source": [
    "#Directories in Python"
   ]
  },
  {
   "cell_type": "code",
   "execution_count": null,
   "metadata": {},
   "outputs": [],
   "source": [
    "#Pypi and pip\n",
    "#pypi.org is a website where you find different packages for different uses. You can import them in your code and use it for your\n",
    "#application. It is like, what you want your program to do, someone else has already done it. Just look for solutions\n",
    "#Webscraping (inshorts)"
   ]
  }
 ],
 "metadata": {
  "kernelspec": {
   "display_name": "Python 3",
   "language": "python",
   "name": "python3"
  },
  "language_info": {
   "codemirror_mode": {
    "name": "ipython",
    "version": 3
   },
   "file_extension": ".py",
   "mimetype": "text/x-python",
   "name": "python",
   "nbconvert_exporter": "python",
   "pygments_lexer": "ipython3",
   "version": "3.7.3"
  }
 },
 "nbformat": 4,
 "nbformat_minor": 2
}
