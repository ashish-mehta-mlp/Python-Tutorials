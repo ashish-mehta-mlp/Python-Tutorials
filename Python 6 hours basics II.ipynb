{
 "cells": [
  {
   "cell_type": "code",
   "execution_count": 2,
   "metadata": {},
   "outputs": [
    {
     "name": "stdout",
     "output_type": "stream",
     "text": [
      "Enter your first name:Ashish\n",
      "Enter your last name:Mehta\n",
      "Ashish [Mehta] is a coder\n",
      "Ashish Mehta is a genius\n"
     ]
    }
   ],
   "source": [
    "first = input(\"Enter your first name:\")\n",
    "last = input(\"Enter your last name:\")\n",
    "message = f'{first} [{last}] is a coder'\n",
    "mes = f'{first} {last} is a genius'\n",
    "print (message)\n",
    "print (mes)"
   ]
  },
  {
   "cell_type": "code",
   "execution_count": null,
   "metadata": {},
   "outputs": [],
   "source": []
  }
 ],
 "metadata": {
  "kernelspec": {
   "display_name": "Python 3",
   "language": "python",
   "name": "python3"
  },
  "language_info": {
   "codemirror_mode": {
    "name": "ipython",
    "version": 3
   },
   "file_extension": ".py",
   "mimetype": "text/x-python",
   "name": "python",
   "nbconvert_exporter": "python",
   "pygments_lexer": "ipython3",
   "version": "3.7.3"
  }
 },
 "nbformat": 4,
 "nbformat_minor": 2
}
