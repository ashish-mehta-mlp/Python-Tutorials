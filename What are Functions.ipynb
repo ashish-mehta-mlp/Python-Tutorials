{
 "cells": [
  {
   "cell_type": "code",
   "execution_count": 1,
   "metadata": {},
   "outputs": [],
   "source": [
    "# a set of instructions, a collection of instructions\n",
    "# a set of code, a collection of code"
   ]
  },
  {
   "cell_type": "code",
   "execution_count": 2,
   "metadata": {},
   "outputs": [],
   "source": [
    "# to convert miles to Km"
   ]
  },
  {
   "cell_type": "code",
   "execution_count": 3,
   "metadata": {},
   "outputs": [],
   "source": [
    "def function(miles):\n",
    "    km = 1.6*miles\n",
    "    print(km)"
   ]
  },
  {
   "cell_type": "code",
   "execution_count": 4,
   "metadata": {},
   "outputs": [
    {
     "name": "stdout",
     "output_type": "stream",
     "text": [
      "32.0\n",
      "None\n"
     ]
    }
   ],
   "source": [
    "KM = function(20)\n",
    "print(KM)"
   ]
  },
  {
   "cell_type": "code",
   "execution_count": 5,
   "metadata": {},
   "outputs": [],
   "source": []
  },
  {
   "cell_type": "code",
   "execution_count": 8,
   "metadata": {},
   "outputs": [
    {
     "name": "stdout",
     "output_type": "stream",
     "text": [
      "I am a boy\n"
     ]
    }
   ],
   "source": [
    "def function():\n",
    "    print(\"My name is Ashish\")\n",
    "    print(\"I am 23 years old\")\n",
    "    return 0\n",
    "print(\"I am a boy\")"
   ]
  },
  {
   "cell_type": "code",
   "execution_count": 9,
   "metadata": {},
   "outputs": [
    {
     "name": "stdout",
     "output_type": "stream",
     "text": [
      "My name is Ashish\n",
      "I am 23 years old\n",
      "0\n"
     ]
    }
   ],
   "source": [
    "a = function()\n",
    "print(a)"
   ]
  },
  {
   "cell_type": "code",
   "execution_count": 11,
   "metadata": {},
   "outputs": [],
   "source": [
    "def function2(x):\n",
    "    a = 3*x\n",
    "    print(a)"
   ]
  },
  {
   "cell_type": "code",
   "execution_count": 13,
   "metadata": {},
   "outputs": [
    {
     "name": "stdout",
     "output_type": "stream",
     "text": [
      "15\n",
      "None\n"
     ]
    }
   ],
   "source": [
    "b = function2(5)\n",
    "print(b)"
   ]
  },
  {
   "cell_type": "code",
   "execution_count": 14,
   "metadata": {},
   "outputs": [],
   "source": [
    "#BMI Calculator using functions"
   ]
  },
  {
   "cell_type": "code",
   "execution_count": 15,
   "metadata": {},
   "outputs": [],
   "source": [
    "n1 = \"Ashish\"\n",
    "h1_m = 1.5\n",
    "w1_kg = 70\n",
    "\n",
    "n2 = \"Vikram\"\n",
    "h2_m = 1.55\n",
    "w2_kg = 75\n",
    "\n",
    "n3 = \"Abhay\"\n",
    "h3_m = 1.40\n",
    "w3_kg = 78"
   ]
  },
  {
   "cell_type": "code",
   "execution_count": 16,
   "metadata": {},
   "outputs": [],
   "source": [
    "def function4(n,h_m,w_kg):\n",
    "    BMI = w_kg/(h_m**2)\n",
    "    print(\"BMI is:\")\n",
    "    print(BMI)\n",
    "    if BMI<25:\n",
    "        print(n, \"is not overweight\")\n",
    "    else:\n",
    "        print(n, \"is overweight\")"
   ]
  },
  {
   "cell_type": "code",
   "execution_count": 17,
   "metadata": {},
   "outputs": [
    {
     "name": "stdout",
     "output_type": "stream",
     "text": [
      "BMI is:\n",
      "31.11111111111111\n",
      "Ashish is overweight\n",
      "BMI is:\n",
      "31.217481789802285\n",
      "Vikram is overweight\n",
      "BMI is:\n",
      "39.79591836734694\n",
      "Abhay is overweight\n",
      "None\n",
      "None\n",
      "None\n"
     ]
    }
   ],
   "source": [
    "r1 = function4(n1,h1_m,w1_kg)\n",
    "r2 = function4(n2,h2_m,w2_kg)\n",
    "r3 = function4(n3,h3_m,w3_kg)\n",
    "\n",
    "print(r1)\n",
    "print(r2)\n",
    "print(r3)"
   ]
  },
  {
   "cell_type": "code",
   "execution_count": null,
   "metadata": {},
   "outputs": [],
   "source": []
  }
 ],
 "metadata": {
  "kernelspec": {
   "display_name": "Python 3",
   "language": "python",
   "name": "python3"
  },
  "language_info": {
   "codemirror_mode": {
    "name": "ipython",
    "version": 3
   },
   "file_extension": ".py",
   "mimetype": "text/x-python",
   "name": "python",
   "nbconvert_exporter": "python",
   "pygments_lexer": "ipython3",
   "version": "3.7.3"
  }
 },
 "nbformat": 4,
 "nbformat_minor": 2
}
