{
 "cells": [
  {
   "cell_type": "code",
   "execution_count": 2,
   "metadata": {},
   "outputs": [],
   "source": [
    "# Objects: Obejcts are a collection of different variables and functions. \n",
    "# For eg: We create a robot tom of red color and 30 kg weight who can introduce himself.\n",
    "# So the variables are: Name=Tom, Colour=red, weight=30 & function= introduceself()\n",
    "# The variables in an object are known as instance variables or attributes & the functions are called as methods\n",
    "# The objects can be defined using variables. For eg: r1 for robot 1 is used to deifne object of robot 1\n",
    "# Class: A class is like a blueprint for making an object. It is a systematic way of organizing the attributes and methods \n",
    "# in an object\n",
    "# Constructor: Difining the attributes in an object again and again in the code becomes very problematic. \n",
    "# So instead difining them again and again, we define them once in a constructer and then, we use the same constructor \n",
    "# define the attributes in an objects"
   ]
  },
  {
   "cell_type": "code",
   "execution_count": 31,
   "metadata": {},
   "outputs": [],
   "source": [
    "# Program to define ojects, classes and constructors in python\n",
    "class Robot:\n",
    "    def __init__ (self, name, colour, weight): # the keyword __init__ is used to define a constructor\n",
    "        self.name = name\n",
    "        self.colour=colour\n",
    "        self.weight=weight\n",
    "      \n",
    "    def introduce_self(self):\n",
    "        print(\"My name is:\" + self.name) # self is a keyword for 'This' in java. Slef refers to whatever object we are running this function on\n",
    "        # ** When any function (method) is within a class, we have to define an argument self. This rule applies to each and every function defined in the class"
   ]
  },
  {
   "cell_type": "code",
   "execution_count": 32,
   "metadata": {},
   "outputs": [],
   "source": [
    "r1=Robot(\"Tom\", \"red\", 30)\n",
    "r2=Robot(\"Jerry\", \"Blue\", 40)\n",
    "\n"
   ]
  },
  {
   "cell_type": "code",
   "execution_count": 33,
   "metadata": {},
   "outputs": [
    {
     "name": "stdout",
     "output_type": "stream",
     "text": [
      "My name is:Tom\n",
      "My name is:Jerry\n"
     ]
    }
   ],
   "source": [
    "r1.introduce_self()\n",
    "r2.introduce_self()"
   ]
  },
  {
   "cell_type": "code",
   "execution_count": 34,
   "metadata": {},
   "outputs": [],
   "source": [
    "class Robot:\n",
    "    def introduce_self(self):\n",
    "        print(\"My name is:\" + self.name)"
   ]
  },
  {
   "cell_type": "code",
   "execution_count": 35,
   "metadata": {},
   "outputs": [],
   "source": [
    "r1 = Robot()\n",
    "r1.name = \"Tom\"\n",
    "r1.colour = \"Red\"\n",
    "r1.weight = 50\n",
    "\n",
    "r2 = Robot()\n",
    "r2.name = \"Jerry\"\n",
    "r2.colour = \"Blue\"\n",
    "r2.weight = 60"
   ]
  },
  {
   "cell_type": "code",
   "execution_count": 36,
   "metadata": {},
   "outputs": [
    {
     "name": "stdout",
     "output_type": "stream",
     "text": [
      "My name is:Tom\n",
      "My name is:Jerry\n"
     ]
    }
   ],
   "source": [
    "r1.introduce_self()\n",
    "r2.introduce_self()"
   ]
  },
  {
   "cell_type": "code",
   "execution_count": null,
   "metadata": {},
   "outputs": [],
   "source": []
  }
 ],
 "metadata": {
  "kernelspec": {
   "display_name": "Python 3",
   "language": "python",
   "name": "python3"
  },
  "language_info": {
   "codemirror_mode": {
    "name": "ipython",
    "version": 3
   },
   "file_extension": ".py",
   "mimetype": "text/x-python",
   "name": "python",
   "nbconvert_exporter": "python",
   "pygments_lexer": "ipython3",
   "version": "3.7.3"
  }
 },
 "nbformat": 4,
 "nbformat_minor": 2
}
