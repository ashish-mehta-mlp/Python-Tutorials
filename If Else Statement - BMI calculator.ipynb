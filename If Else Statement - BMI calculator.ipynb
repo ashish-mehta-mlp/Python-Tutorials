{
 "cells": [
  {
   "cell_type": "code",
   "execution_count": 4,
   "metadata": {},
   "outputs": [
    {
     "name": "stdout",
     "output_type": "stream",
     "text": [
      "a is greater than b\n",
      "outside of elseif loop\n"
     ]
    }
   ],
   "source": [
    "a=50\n",
    "b=20\n",
    "c=30\n",
    "\n",
    "if a<b:\n",
    "    print (\"a is less than b\")\n",
    "else:\n",
    "    print(\"a is greater than b\")\n",
    "print(\"outside of elseif loop\")\n"
   ]
  },
  {
   "cell_type": "code",
   "execution_count": 9,
   "metadata": {},
   "outputs": [
    {
     "name": "stdout",
     "output_type": "stream",
     "text": [
      "a is equal to b\n",
      "This is outside else-if statement!\n"
     ]
    }
   ],
   "source": [
    "# elif statement\n",
    "\n",
    "a=20\n",
    "b=20\n",
    "\n",
    "if a<b:\n",
    "    print(\"a is less than b\")\n",
    "elif a==b: # single = sign means assigning the value on the right side of = sign to the left side of = sign. == is a condition sign\n",
    "    print(\"a is equal to b\")\n",
    "else:\n",
    "    print(\"a is greater than b\")\n",
    "print(\"This is outside else-if statement!\")"
   ]
  },
  {
   "cell_type": "code",
   "execution_count": 13,
   "metadata": {},
   "outputs": [
    {
     "name": "stdout",
     "output_type": "stream",
     "text": [
      "Ashish Your BMI is:\n",
      "22.720438370810918\n",
      "You are not overweight\n"
     ]
    }
   ],
   "source": [
    "#BMI Calculator\n",
    "\n",
    "name = \"Ashish\"\n",
    "Age = \"24\"\n",
    "Height_m = 1.73\n",
    "Weight_kg = 68\n",
    "\n",
    "BMI = Weight_kg/(Height_m ** 2) # ** means raised to the power 2\n",
    "if BMI<25:\n",
    "    print(name, \"Your BMI is:\")\n",
    "    print(BMI)\n",
    "    print(\"You are not overweight\")\n",
    "else:\n",
    "    print(name, \"Your BMI is:\")\n",
    "    print(BMI)\n",
    "    print(\"You are overweight\")"
   ]
  },
  {
   "cell_type": "code",
   "execution_count": null,
   "metadata": {},
   "outputs": [],
   "source": []
  }
 ],
 "metadata": {
  "kernelspec": {
   "display_name": "Python 3",
   "language": "python",
   "name": "python3"
  },
  "language_info": {
   "codemirror_mode": {
    "name": "ipython",
    "version": 3
   },
   "file_extension": ".py",
   "mimetype": "text/x-python",
   "name": "python",
   "nbconvert_exporter": "python",
   "pygments_lexer": "ipython3",
   "version": "3.7.3"
  }
 },
 "nbformat": 4,
 "nbformat_minor": 2
}
